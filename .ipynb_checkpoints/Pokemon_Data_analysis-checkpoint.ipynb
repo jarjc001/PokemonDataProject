{
 "cells": [
  {
   "cell_type": "markdown",
   "id": "6fd1d224-3a84-42d2-a91b-8f264411cd27",
   "metadata": {},
   "source": [
    "# Pokemon Data Analysis"
   ]
  },
  {
   "cell_type": "code",
   "execution_count": null,
   "id": "357272bc-3401-43af-a180-31790863cfe9",
   "metadata": {},
   "outputs": [],
   "source": []
  }
 ],
 "metadata": {
  "kernelspec": {
   "display_name": "Python 3 (ipykernel)",
   "language": "python",
   "name": "python3"
  },
  "language_info": {
   "codemirror_mode": {
    "name": "ipython",
    "version": 3
   },
   "file_extension": ".py",
   "mimetype": "text/x-python",
   "name": "python",
   "nbconvert_exporter": "python",
   "pygments_lexer": "ipython3",
   "version": "3.8.3"
  }
 },
 "nbformat": 4,
 "nbformat_minor": 5
}
