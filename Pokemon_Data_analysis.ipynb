{
 "cells": [
  {
   "cell_type": "markdown",
   "id": "6fd1d224-3a84-42d2-a91b-8f264411cd27",
   "metadata": {},
   "source": [
    "# Pokemon Data Analysis"
   ]
  },
  {
   "cell_type": "markdown",
   "id": "727e81a3-8307-456d-8318-dfa44d28ea05",
   "metadata": {},
   "source": [
    "Using [PokéAPI](https://pokeapi.co/), I will create a data pipeline in python to extract and transform data about Pokémon in a MySQL database. From there, I’ll analyse the different aspects of the data in python and SQL"
   ]
  },
  {
   "cell_type": "code",
   "execution_count": 3,
   "id": "88450765-f7ea-42a5-8098-f8c0794a3639",
   "metadata": {},
   "outputs": [],
   "source": [
    "import pokemon_pipline as pk\n",
    "import pandas as pd\n",
    "from sqlalchemy import create_engine\n",
    "import matplotlib.pyplot as plt\n",
    "from scipy.optimize import curve_fit"
   ]
  },
  {
   "cell_type": "markdown",
   "id": "af641b77-2f60-424a-af05-bcfc8f949e33",
   "metadata": {
    "jp-MarkdownHeadingCollapsed": true
   },
   "source": [
    "## Data Pipeline"
   ]
  },
  {
   "cell_type": "markdown",
   "id": "81b04a79-f781-48eb-af4c-2f981773e999",
   "metadata": {},
   "source": [
    "### 1. Extract and Transform Data"
   ]
  },
  {
   "cell_type": "markdown",
   "id": "2f24d1fc-1132-4011-a26b-50bebba88828",
   "metadata": {},
   "source": [
    "Firstly, by using the requests package and a Pokémon object, I will create a list containing the information of every Pokémon, then convert the list into a pandas DataFrame as a more easily accessible form."
   ]
  },
  {
   "cell_type": "code",
   "execution_count": 2,
   "id": "78be66fe-3782-42ad-ac29-e85ab0584649",
   "metadata": {},
   "outputs": [
    {
     "data": {
      "text/html": [
       "<div>\n",
       "<style scoped>\n",
       "    .dataframe tbody tr th:only-of-type {\n",
       "        vertical-align: middle;\n",
       "    }\n",
       "\n",
       "    .dataframe tbody tr th {\n",
       "        vertical-align: top;\n",
       "    }\n",
       "\n",
       "    .dataframe thead th {\n",
       "        text-align: right;\n",
       "    }\n",
       "</style>\n",
       "<table border=\"1\" class=\"dataframe\">\n",
       "  <thead>\n",
       "    <tr style=\"text-align: right;\">\n",
       "      <th></th>\n",
       "      <th>pokemonId</th>\n",
       "      <th>name</th>\n",
       "      <th>type1</th>\n",
       "      <th>type2</th>\n",
       "      <th>height</th>\n",
       "      <th>weight</th>\n",
       "      <th>hp</th>\n",
       "      <th>attack</th>\n",
       "      <th>defense</th>\n",
       "      <th>special_attack</th>\n",
       "      <th>special_defense</th>\n",
       "      <th>speed</th>\n",
       "    </tr>\n",
       "  </thead>\n",
       "  <tbody>\n",
       "    <tr>\n",
       "      <th>0</th>\n",
       "      <td>1</td>\n",
       "      <td>bulbasaur</td>\n",
       "      <td>grass</td>\n",
       "      <td>poison</td>\n",
       "      <td>7</td>\n",
       "      <td>69</td>\n",
       "      <td>45</td>\n",
       "      <td>49</td>\n",
       "      <td>49</td>\n",
       "      <td>65</td>\n",
       "      <td>65</td>\n",
       "      <td>45</td>\n",
       "    </tr>\n",
       "    <tr>\n",
       "      <th>1</th>\n",
       "      <td>2</td>\n",
       "      <td>ivysaur</td>\n",
       "      <td>grass</td>\n",
       "      <td>poison</td>\n",
       "      <td>10</td>\n",
       "      <td>130</td>\n",
       "      <td>60</td>\n",
       "      <td>62</td>\n",
       "      <td>63</td>\n",
       "      <td>80</td>\n",
       "      <td>80</td>\n",
       "      <td>60</td>\n",
       "    </tr>\n",
       "    <tr>\n",
       "      <th>2</th>\n",
       "      <td>3</td>\n",
       "      <td>venusaur</td>\n",
       "      <td>grass</td>\n",
       "      <td>poison</td>\n",
       "      <td>20</td>\n",
       "      <td>1000</td>\n",
       "      <td>80</td>\n",
       "      <td>82</td>\n",
       "      <td>83</td>\n",
       "      <td>100</td>\n",
       "      <td>100</td>\n",
       "      <td>80</td>\n",
       "    </tr>\n",
       "    <tr>\n",
       "      <th>3</th>\n",
       "      <td>4</td>\n",
       "      <td>charmander</td>\n",
       "      <td>fire</td>\n",
       "      <td>None</td>\n",
       "      <td>6</td>\n",
       "      <td>85</td>\n",
       "      <td>39</td>\n",
       "      <td>52</td>\n",
       "      <td>43</td>\n",
       "      <td>60</td>\n",
       "      <td>50</td>\n",
       "      <td>65</td>\n",
       "    </tr>\n",
       "    <tr>\n",
       "      <th>4</th>\n",
       "      <td>5</td>\n",
       "      <td>charmeleon</td>\n",
       "      <td>fire</td>\n",
       "      <td>None</td>\n",
       "      <td>11</td>\n",
       "      <td>190</td>\n",
       "      <td>58</td>\n",
       "      <td>64</td>\n",
       "      <td>58</td>\n",
       "      <td>80</td>\n",
       "      <td>65</td>\n",
       "      <td>80</td>\n",
       "    </tr>\n",
       "  </tbody>\n",
       "</table>\n",
       "</div>"
      ],
      "text/plain": [
       "   pokemonId        name  type1   type2  height  weight  hp  attack  defense  \\\n",
       "0          1   bulbasaur  grass  poison       7      69  45      49       49   \n",
       "1          2     ivysaur  grass  poison      10     130  60      62       63   \n",
       "2          3    venusaur  grass  poison      20    1000  80      82       83   \n",
       "3          4  charmander   fire    None       6      85  39      52       43   \n",
       "4          5  charmeleon   fire    None      11     190  58      64       58   \n",
       "\n",
       "   special_attack  special_defense  speed  \n",
       "0              65               65     45  \n",
       "1              80               80     60  \n",
       "2             100              100     80  \n",
       "3              60               50     65  \n",
       "4              80               65     80  "
      ]
     },
     "execution_count": 2,
     "metadata": {},
     "output_type": "execute_result"
    }
   ],
   "source": [
    "pokemon_base_url: str = \"https://pokeapi.co/api/v2/pokemon/\"\n",
    "pokemon_list: list = pk.import_pokemon_data_to_list(url = pokemon_base_url)\n",
    "\n",
    "pokemon_df: pd.DataFrame = pk.list_pokemon_data_to_pd(pokemon_list)\n",
    "pokemon_df.head()"
   ]
  },
  {
   "cell_type": "code",
   "execution_count": 3,
   "id": "be9805dd-bebe-4099-b2f1-8cbf6d0380aa",
   "metadata": {},
   "outputs": [
    {
     "data": {
      "text/plain": [
       "(1025, 12)"
      ]
     },
     "execution_count": 3,
     "metadata": {},
     "output_type": "execute_result"
    }
   ],
   "source": [
    "pokemon_df.shape"
   ]
  },
  {
   "cell_type": "markdown",
   "id": "6017df02-b65e-47fb-8a1a-a4afe7488530",
   "metadata": {},
   "source": [
    "I will do the same for Pokémon types, ending up with a DataFrame of Pokémon types and a corresponding ID\n"
   ]
  },
  {
   "cell_type": "code",
   "execution_count": 5,
   "id": "3ca45edc-2152-4de6-82ee-298163c9152e",
   "metadata": {},
   "outputs": [
    {
     "data": {
      "text/html": [
       "<div>\n",
       "<style scoped>\n",
       "    .dataframe tbody tr th:only-of-type {\n",
       "        vertical-align: middle;\n",
       "    }\n",
       "\n",
       "    .dataframe tbody tr th {\n",
       "        vertical-align: top;\n",
       "    }\n",
       "\n",
       "    .dataframe thead th {\n",
       "        text-align: right;\n",
       "    }\n",
       "</style>\n",
       "<table border=\"1\" class=\"dataframe\">\n",
       "  <thead>\n",
       "    <tr style=\"text-align: right;\">\n",
       "      <th></th>\n",
       "      <th>pokemonType</th>\n",
       "      <th>typeID</th>\n",
       "    </tr>\n",
       "  </thead>\n",
       "  <tbody>\n",
       "    <tr>\n",
       "      <th>0</th>\n",
       "      <td>normal</td>\n",
       "      <td>0</td>\n",
       "    </tr>\n",
       "    <tr>\n",
       "      <th>1</th>\n",
       "      <td>fighting</td>\n",
       "      <td>1</td>\n",
       "    </tr>\n",
       "    <tr>\n",
       "      <th>2</th>\n",
       "      <td>flying</td>\n",
       "      <td>2</td>\n",
       "    </tr>\n",
       "    <tr>\n",
       "      <th>3</th>\n",
       "      <td>poison</td>\n",
       "      <td>3</td>\n",
       "    </tr>\n",
       "    <tr>\n",
       "      <th>4</th>\n",
       "      <td>ground</td>\n",
       "      <td>4</td>\n",
       "    </tr>\n",
       "  </tbody>\n",
       "</table>\n",
       "</div>"
      ],
      "text/plain": [
       "  pokemonType  typeID\n",
       "0      normal       0\n",
       "1    fighting       1\n",
       "2      flying       2\n",
       "3      poison       3\n",
       "4      ground       4"
      ]
     },
     "execution_count": 5,
     "metadata": {},
     "output_type": "execute_result"
    }
   ],
   "source": [
    "type_base_url: str = \"https://pokeapi.co/api/v2/type/\"\n",
    "pokemon_types: list = pk.import_type_data_to_list(url = type_base_url)\n",
    "\n",
    "types_df: pd.DataFrame = pk.list_types_data_to_pd(pokemon_types)\n",
    "types_df.head()"
   ]
  },
  {
   "cell_type": "markdown",
   "id": "4327f19d-60bf-49de-8854-3547c84b6e4c",
   "metadata": {},
   "source": [
    "### 2. Load Data to Repository"
   ]
  },
  {
   "cell_type": "markdown",
   "id": "e3b953f4-14e0-45f4-93cc-f7ee6e682df0",
   "metadata": {},
   "source": [
    "Can load the Pokémon data in a csv and parquet file"
   ]
  },
  {
   "cell_type": "code",
   "execution_count": null,
   "id": "947249f9-cfed-4b18-9554-f421762ff3ed",
   "metadata": {},
   "outputs": [],
   "source": [
    "pk.data_pd_to_csv(pokemon_df)\n",
    "pk.data_pd_to_parquet(pokemon_df)"
   ]
  },
  {
   "cell_type": "markdown",
   "id": "bccc8892-8919-454e-afa5-40b227e9e095",
   "metadata": {},
   "source": [
    "However, for more functionality, I will export both DataFrames into a MySQL Database. The following Database and tables are created using mysql.connector. As a Pokémon can have more than one type, the Database is in 2nd normal form to remove duplicate data rows and ensure the data dependencies.       \n",
    "![Pokémon Database erd](PokemonDB_erd.png)"
   ]
  },
  {
   "cell_type": "code",
   "execution_count": 6,
   "id": "c6c8133e-4819-40a6-894d-1adf602b61da",
   "metadata": {},
   "outputs": [],
   "source": [
    "pk.create_db()\n",
    "pk.create_db_tables()"
   ]
  },
  {
   "cell_type": "markdown",
   "id": "8b420b9d-b54c-4867-921e-eb721829213f",
   "metadata": {},
   "source": [
    "Can now populate the database with mysql.connector, sqlalchemy and pandas, making sure to insert the table data in the right order.    \n",
    "This will only work if all the tables are empty, otherwise the data insertion will fail\n"
   ]
  },
  {
   "cell_type": "code",
   "execution_count": 7,
   "id": "7531445f-fd3d-4fcd-b2b7-6ab9459df9ef",
   "metadata": {},
   "outputs": [],
   "source": [
    "#if the tables are not empty\n",
    "#pk.reset_db_table(\"all\")\n",
    "\n",
    "#insert pokemon data\n",
    "pk.insert_pokemon_data_to_db(pokemon_df)\n",
    "\n",
    "#insert type data\n",
    "pk.insert_types_data_to_db(types_df)\n",
    "\n",
    "# insert many to many table data\n",
    "pk.insert_many_many_data_to_db(pokemon_df,types_df)"
   ]
  },
  {
   "cell_type": "markdown",
   "id": "92d613da-b011-49d1-b526-855e789036bd",
   "metadata": {},
   "source": [
    "## Data Analysis"
   ]
  },
  {
   "cell_type": "markdown",
   "id": "5d0ec2e3-9386-43a0-bce3-7dadbbd6b4d0",
   "metadata": {},
   "source": [
    "With the data in the database, the analysis can begin. There are three main questions I want to answer with the dataset:    \n",
    "1.\tHow are Pokémon types distributed among Pokémon species?    \n",
    "2.\tDoes a Pokémon’s type affect its height and weight?    \n",
    "3.\tDoes a Pokémon’s type influence its stats?    \n",
    "To do this, I will query the data using sqlalchemy and pandas. This allows it to be visualised with matplotlib and draw my conclusions from it.\n"
   ]
  },
  {
   "cell_type": "code",
   "execution_count": 4,
   "id": "e83b3cf1-a0ef-4c76-b14b-c426af9ed953",
   "metadata": {},
   "outputs": [],
   "source": [
    "engine = create_engine(pk.SQL_ALCHEMY_CON_STRING)"
   ]
  },
  {
   "cell_type": "markdown",
   "id": "b222f318-9b06-4293-866c-4ca38033c346",
   "metadata": {},
   "source": [
    "### 1. Pokémon types"
   ]
  },
  {
   "cell_type": "markdown",
   "id": "ae31d75b-60b9-499d-a246-02006e91fcf4",
   "metadata": {},
   "source": [
    "The Pokémon world is diverse, with all Pokémon being categorised into 18 different types. But these types are not distributed uniformly among the species, with some types being more numerous than others. In the real world, insects make the largest percentages of the world’s species. If the Pokémon world was representative of the real one, bug type would be overwhelmingly the most popular type."
   ]
  },
  {
   "cell_type": "code",
   "execution_count": 5,
   "id": "11b94d40-0b6a-4164-8649-c91ca5e6d402",
   "metadata": {},
   "outputs": [],
   "source": [
    "# The numebr of pokemon per type\n",
    "\n",
    "number_of_pokemone_per_type: str = \\\n",
    "\"\"\"\n",
    "    SELECT \n",
    "        t.pokemonType type, \n",
    "        count(distinct p.pokemonId) amount\n",
    "    FROM pokemon p\n",
    "    inner Join pokemontypes pt\n",
    "        on p.pokemonId = pt.pokemonId\n",
    "    join types t\n",
    "        on t.typeId = pt.typeId\n",
    "    group by t.pokemonType\n",
    "    order by amount desc;\n",
    "\"\"\""
   ]
  },
  {
   "cell_type": "code",
   "execution_count": 6,
   "id": "74cab5be-7e00-41e1-bad9-a054a7f53288",
   "metadata": {},
   "outputs": [
    {
     "data": {
      "text/plain": [
       "(18, 2)"
      ]
     },
     "execution_count": 6,
     "metadata": {},
     "output_type": "execute_result"
    }
   ],
   "source": [
    "df_pokemon_per_type =pd.read_sql(number_of_pokemone_per_type, engine)\n",
    "df_pokemon_per_type.shape"
   ]
  },
  {
   "cell_type": "code",
   "execution_count": 7,
   "id": "7827390b-ac9c-4d65-a133-fd97c277f884",
   "metadata": {},
   "outputs": [
    {
     "data": {
      "image/png": "[encoded data removed]",
      "text/plain": [
       "<Figure size 640x480 with 1 Axes>"
      ]
     },
     "metadata": {},
     "output_type": "display_data"
    }
   ],
   "source": [
    "x = df_pokemon_per_type[\"type\"]\n",
    "y = df_pokemon_per_type [\"amount\"]\n",
    "\n",
    "upper_third: int = 6\n",
    "lower_third: int = 17\n",
    "\n",
    "fig, ax = plt.subplots()\n",
    "\n",
    "plt.bar(x[0:upper_third],y[0:upper_third], color = 'red')\n",
    "plt.bar(x[upper_third:],y[upper_third:], color = 'blue')\n",
    "plt.bar(x[lower_third:],y[lower_third:], color = 'green')\n",
    "\n",
    "plt.title(\"Amount of Pokémon Species per Pokémon Types \")\n",
    "plt.xlabel(\"Pokémon Types\")\n",
    "plt.ylabel(\"Amount\")\n",
    "plt.xticks(rotation=90)\n",
    "\n",
    "plt.show()"
   ]
  },
  {
   "cell_type": "code",
   "execution_count": 14,
   "id": "b359c796-dfcb-4ab5-a01e-95d55e4b7609",
   "metadata": {},
   "outputs": [
    {
     "data": {
      "text/plain": [
       "count     18.000000\n",
       "mean      86.166667\n",
       "std       27.931113\n",
       "min       48.000000\n",
       "25%       69.000000\n",
       "50%       74.500000\n",
       "75%       99.500000\n",
       "max      154.000000\n",
       "Name: amount, dtype: float64"
      ]
     },
     "execution_count": 14,
     "metadata": {},
     "output_type": "execute_result"
    }
   ],
   "source": [
    "df_pokemon_per_type[\"amount\"].describe()"
   ]
  },
  {
   "cell_type": "code",
   "execution_count": 6,
   "id": "04ab3b1b-ec94-411c-8137-0ed28ee59942",
   "metadata": {},
   "outputs": [],
   "source": [
    "df_pokemon_per_type[\"counter\"] = range(1, len(df_pokemon_per_type)+1)\n",
    "\n",
    "    "
   ]
  },
  {
   "cell_type": "code",
   "execution_count": 7,
   "id": "a93ac881-befc-4c0a-a8f7-37f3de8f3e4e",
   "metadata": {},
   "outputs": [
    {
     "data": {
      "text/html": [
       "<div>\n",
       "<style scoped>\n",
       "    .dataframe tbody tr th:only-of-type {\n",
       "        vertical-align: middle;\n",
       "    }\n",
       "\n",
       "    .dataframe tbody tr th {\n",
       "        vertical-align: top;\n",
       "    }\n",
       "\n",
       "    .dataframe thead th {\n",
       "        text-align: right;\n",
       "    }\n",
       "</style>\n",
       "<table border=\"1\" class=\"dataframe\">\n",
       "  <thead>\n",
       "    <tr style=\"text-align: right;\">\n",
       "      <th></th>\n",
       "      <th>type</th>\n",
       "      <th>amount</th>\n",
       "      <th>counter</th>\n",
       "    </tr>\n",
       "  </thead>\n",
       "  <tbody>\n",
       "    <tr>\n",
       "      <th>0</th>\n",
       "      <td>water</td>\n",
       "      <td>154</td>\n",
       "      <td>1</td>\n",
       "    </tr>\n",
       "    <tr>\n",
       "      <th>1</th>\n",
       "      <td>normal</td>\n",
       "      <td>131</td>\n",
       "      <td>2</td>\n",
       "    </tr>\n",
       "    <tr>\n",
       "      <th>2</th>\n",
       "      <td>grass</td>\n",
       "      <td>127</td>\n",
       "      <td>3</td>\n",
       "    </tr>\n",
       "    <tr>\n",
       "      <th>3</th>\n",
       "      <td>flying</td>\n",
       "      <td>109</td>\n",
       "      <td>4</td>\n",
       "    </tr>\n",
       "    <tr>\n",
       "      <th>4</th>\n",
       "      <td>psychic</td>\n",
       "      <td>102</td>\n",
       "      <td>5</td>\n",
       "    </tr>\n",
       "  </tbody>\n",
       "</table>\n",
       "</div>"
      ],
      "text/plain": [
       "      type  amount  counter\n",
       "0    water     154        1\n",
       "1   normal     131        2\n",
       "2    grass     127        3\n",
       "3   flying     109        4\n",
       "4  psychic     102        5"
      ]
     },
     "execution_count": 7,
     "metadata": {},
     "output_type": "execute_result"
    }
   ],
   "source": [
    "df_pokemon_per_type.head()"
   ]
  },
  {
   "cell_type": "code",
   "execution_count": 8,
   "id": "c3060f90-2411-4ed3-816d-7cd73f7a46a1",
   "metadata": {},
   "outputs": [
    {
     "data": {
      "image/png": "[encoded data removed]",
      "text/plain": [
       "<Figure size 640x480 with 1 Axes>"
      ]
     },
     "metadata": {},
     "output_type": "display_data"
    }
   ],
   "source": [
    "x = df_pokemon_per_type[\"counter\"]\n",
    "y = df_pokemon_per_type [\"amount\"]\n",
    "\n",
    "upper_third: int = 5\n",
    "lower_third: int = 13\n",
    "\n",
    "fig, ax = plt.subplots()\n",
    "\n",
    "plt.scatter(x,y)\n",
    "\n",
    "\n",
    "plt.title(\"Amount of Pokémon Species per Pokémon Types \")\n",
    "plt.ylabel(\"Amount\")\n",
    "plt.xticks(rotation=90)\n",
    "\n",
    "plt.show()"
   ]
  },
  {
   "cell_type": "code",
   "execution_count": 18,
   "id": "c92393e8-ddbe-4ce1-bb47-709b6e7978ed",
   "metadata": {},
   "outputs": [
    {
     "data": {
      "text/plain": [
       "<bound method Figure.show of <Figure size 1000x700 with 1 Axes>>"
      ]
     },
     "execution_count": 18,
     "metadata": {},
     "output_type": "execute_result"
    },
    {
     "data": {
      "image/png": "[encoded data removed]",
      "text/plain": [
       "<Figure size 1000x700 with 1 Axes>"
      ]
     },
     "metadata": {},
     "output_type": "display_data"
    }
   ],
   "source": [
    "fig = plt.figure(figsize =(10, 7))\n",
    "plt.boxplot(y,vert = 0)\n",
    "fig.show"
   ]
  },
  {
   "cell_type": "code",
   "execution_count": null,
   "id": "b3d95bde-bb76-42d6-9cbe-1cc1f8a14ab6",
   "metadata": {},
   "outputs": [],
   "source": []
  },
  {
   "cell_type": "code",
   "execution_count": null,
   "id": "fb958535-7f03-40a5-89c7-c70550e0aefc",
   "metadata": {},
   "outputs": [],
   "source": []
  },
  {
   "cell_type": "code",
   "execution_count": null,
   "id": "2e4baa62-070b-4d80-9ee4-d41862cebc92",
   "metadata": {},
   "outputs": [],
   "source": []
  },
  {
   "cell_type": "code",
   "execution_count": null,
   "id": "4e5fb08d-1a1d-4efb-81c5-337988bf060b",
   "metadata": {},
   "outputs": [],
   "source": []
  },
  {
   "cell_type": "markdown",
   "id": "1dd67b15-26d4-49e8-9dd8-39a1d93b3f2d",
   "metadata": {},
   "source": [
    "(analysis)"
   ]
  },
  {
   "cell_type": "markdown",
   "id": "4e58de17-1681-4149-8ab8-ac7c80dced45",
   "metadata": {},
   "source": [
    "Some Pokémon have two types to better describe their characteristics and traits, adding to the potential diversity. The original set counted these double type Pokémon twice. So, to see how these double types contribute to the total type distribution, the most popular double types are queried."
   ]
  },
  {
   "cell_type": "code",
   "execution_count": 6,
   "id": "58ac9a29-058f-4232-90aa-0abaaadc15bb",
   "metadata": {},
   "outputs": [],
   "source": [
    "type_pairing_str: str = \\\n",
    "\"\"\"\n",
    "    SELECT  \n",
    "        t1.pokemonType type1,\n",
    "        t2.pokemonType type2,\n",
    "        count(p1.typeId) amount\n",
    "    from pokemontypes p1\n",
    "    join pokemontypes p2\n",
    "        on p1.pokemonId = p2.pokemonId and p1.typeId > p2.typeId\n",
    "    join types t1\n",
    "        on t1.typeId = p1.typeId\n",
    "    join types t2\n",
    "        on t2.typeId = p2.typeId\n",
    "    group by p1.typeId, p2.typeId\n",
    "    order by amount desc;\n",
    "\"\"\""
   ]
  },
  {
   "cell_type": "code",
   "execution_count": 7,
   "id": "811ec7ad-6903-468e-8251-858b029c7434",
   "metadata": {},
   "outputs": [
    {
     "data": {
      "text/plain": [
       "(136, 3)"
      ]
     },
     "execution_count": 7,
     "metadata": {},
     "output_type": "execute_result"
    }
   ],
   "source": [
    "df_type_pairing = pd.read_sql(type_pairing_str, engine)\n",
    "df_type_pairing.shape"
   ]
  },
  {
   "cell_type": "code",
   "execution_count": 8,
   "id": "52406063-f5e6-4443-ae91-d32970d2b49e",
   "metadata": {},
   "outputs": [
    {
     "data": {
      "image/png": "[encoded data removed]",
      "text/plain": [
       "<Figure size 640x480 with 1 Axes>"
      ]
     },
     "metadata": {},
     "output_type": "display_data"
    }
   ],
   "source": [
    "x = df_type_pairing[\"type2\"] + \" \" + df_type_pairing[\"type1\"]\n",
    "y = df_type_pairing[\"amount\"]\n",
    "\n",
    "upper_limit: int = 15\n",
    "\n",
    "fig, ax = plt.subplots()\n",
    "\n",
    "plt.bar(x[0:upper_limit],y[0:upper_limit], color = 'blue')\n",
    "# plt.bar(x[lower_limit:],y[lower_limit:], color = 'green')\n",
    "\n",
    "plt.title(\"10??? Most Popular Double typing\")\n",
    "plt.xlabel(\"Double Types\")\n",
    "plt.ylabel(\"Amount\")\n",
    "plt.xticks(rotation=90)\n",
    "\n",
    "plt.show()"
   ]
  },
  {
   "cell_type": "markdown",
   "id": "7472a9c6-470a-4275-a7af-7f872fee5013",
   "metadata": {},
   "source": [
    "(analysis)\n"
   ]
  },
  {
   "cell_type": "markdown",
   "id": "48e1dee4-2ad0-4787-a401-9952fd2700bf",
   "metadata": {},
   "source": [
    "### Height and Weight"
   ]
  },
  {
   "cell_type": "code",
   "execution_count": null,
   "id": "c28f5c96-8acb-4c3b-914b-d5bd89ba38d3",
   "metadata": {},
   "outputs": [],
   "source": []
  },
  {
   "cell_type": "markdown",
   "id": "35f9dd7d-b009-4006-bdc2-6a766b790837",
   "metadata": {},
   "source": [
    "Height and weight of all pokemon"
   ]
  },
  {
   "cell_type": "code",
   "execution_count": 9,
   "id": "0667f70b-94da-494d-853f-9fe6ee763cca",
   "metadata": {},
   "outputs": [],
   "source": [
    "height_weight_all_pokemon_str: str = \\\n",
    "\"\"\"\n",
    "    Select height, weight \n",
    "    from pokemon;\n",
    "\"\"\""
   ]
  },
  {
   "cell_type": "code",
   "execution_count": 10,
   "id": "ac3ea3fc-6e7a-4944-b2ca-8464c1d357e0",
   "metadata": {},
   "outputs": [
    {
     "data": {
      "text/plain": [
       "(1025, 2)"
      ]
     },
     "execution_count": 10,
     "metadata": {},
     "output_type": "execute_result"
    }
   ],
   "source": [
    "df_height_weight_all = pd.read_sql(height_weight_all_pokemon_str, engine)\n",
    "df_height_weight_all.shape"
   ]
  },
  {
   "cell_type": "code",
   "execution_count": 11,
   "id": "15020fe7-536c-4e5e-9d01-55d37d03551b",
   "metadata": {},
   "outputs": [
    {
     "data": {
      "image/png": "[encoded data removed]",
      "text/plain": [
       "<Figure size 640x480 with 1 Axes>"
      ]
     },
     "metadata": {},
     "output_type": "display_data"
    }
   ],
   "source": [
    "x = df_height_weight_all[\"height\"] * 0.1\n",
    "y = df_height_weight_all[\"weight\"] * 0.1\n",
    "\n",
    "upper_limit: int = 15\n",
    "\n",
    "fig, ax = plt.subplots()\n",
    "\n",
    "plt.scatter(x,y, color = 'blue')\n",
    "# plt.bar(x[lower_limit:],y[lower_limit:], color = 'green')\n",
    "\n",
    "plt.title(\"Height and Weight of Pokémon Species\")\n",
    "plt.xlabel(\"Height (m)\")\n",
    "plt.ylabel(\"Weight (kg)\")\n",
    "plt.xticks(rotation=90)\n",
    "\n",
    "plt.show()"
   ]
  },
  {
   "cell_type": "code",
   "execution_count": null,
   "id": "0df1b2d0-168a-4973-a8e5-f922328fb6b3",
   "metadata": {},
   "outputs": [],
   "source": []
  },
  {
   "cell_type": "markdown",
   "id": "53e5336b-cd58-48ba-a566-50ed62896ae2",
   "metadata": {},
   "source": [
    "mean and std of the height and weight for each type"
   ]
  },
  {
   "cell_type": "code",
   "execution_count": 12,
   "id": "56f7ae6b-0cf9-421e-9c6f-84fcf825b4d0",
   "metadata": {},
   "outputs": [],
   "source": [
    "mean_height_weight_per_type_str: str = \\\n",
    "\"\"\"\n",
    "    with cte as(\n",
    "    \tSELECT t.pokemonType, pt.pokemonId\n",
    "    \tFROM types t\n",
    "    \tjoin pokemontypes pt\n",
    "    \ton t.typeId = pt.typeId\n",
    "        )\n",
    "        \n",
    "    select \n",
    "        ROUND(avg(p.height),2) mean_height, ROUND(STD(p.height),2) sd_height,\n",
    "        ROUND(avg(p.weight),2) mean_weight, ROUND(STD(p.weight),2) sd_weight,\n",
    "        c.pokemonType\n",
    "    from pokemon p\n",
    "    join cte c\n",
    "    on p.pokemonId = c.pokemonId\n",
    "    group by c.pokemonType\n",
    "    order by mean_height Desc, mean_weight Desc;\n",
    "\"\"\""
   ]
  },
  {
   "cell_type": "code",
   "execution_count": 13,
   "id": "95f650fe-fafa-45eb-b88a-f118331834c8",
   "metadata": {},
   "outputs": [
    {
     "data": {
      "text/html": [
       "<div>\n",
       "<style scoped>\n",
       "    .dataframe tbody tr th:only-of-type {\n",
       "        vertical-align: middle;\n",
       "    }\n",
       "\n",
       "    .dataframe tbody tr th {\n",
       "        vertical-align: top;\n",
       "    }\n",
       "\n",
       "    .dataframe thead th {\n",
       "        text-align: right;\n",
       "    }\n",
       "</style>\n",
       "<table border=\"1\" class=\"dataframe\">\n",
       "  <thead>\n",
       "    <tr style=\"text-align: right;\">\n",
       "      <th></th>\n",
       "      <th>mean_height</th>\n",
       "      <th>sd_height</th>\n",
       "      <th>mean_weight</th>\n",
       "      <th>sd_weight</th>\n",
       "      <th>pokemonType</th>\n",
       "    </tr>\n",
       "  </thead>\n",
       "  <tbody>\n",
       "    <tr>\n",
       "      <th>0</th>\n",
       "      <td>22.86</td>\n",
       "      <td>25.65</td>\n",
       "      <td>1642.87</td>\n",
       "      <td>2053.19</td>\n",
       "      <td>dragon</td>\n",
       "    </tr>\n",
       "    <tr>\n",
       "      <th>1</th>\n",
       "      <td>15.64</td>\n",
       "      <td>15.03</td>\n",
       "      <td>1292.76</td>\n",
       "      <td>1809.28</td>\n",
       "      <td>ground</td>\n",
       "    </tr>\n",
       "    <tr>\n",
       "      <th>2</th>\n",
       "      <td>15.62</td>\n",
       "      <td>16.97</td>\n",
       "      <td>1621.71</td>\n",
       "      <td>2164.94</td>\n",
       "      <td>steel</td>\n",
       "    </tr>\n",
       "    <tr>\n",
       "      <th>3</th>\n",
       "      <td>14.58</td>\n",
       "      <td>8.03</td>\n",
       "      <td>1319.56</td>\n",
       "      <td>1649.41</td>\n",
       "      <td>ice</td>\n",
       "    </tr>\n",
       "    <tr>\n",
       "      <th>4</th>\n",
       "      <td>13.85</td>\n",
       "      <td>6.16</td>\n",
       "      <td>797.11</td>\n",
       "      <td>850.63</td>\n",
       "      <td>fighting</td>\n",
       "    </tr>\n",
       "  </tbody>\n",
       "</table>\n",
       "</div>"
      ],
      "text/plain": [
       "   mean_height  sd_height  mean_weight  sd_weight pokemonType\n",
       "0        22.86      25.65      1642.87    2053.19      dragon\n",
       "1        15.64      15.03      1292.76    1809.28      ground\n",
       "2        15.62      16.97      1621.71    2164.94       steel\n",
       "3        14.58       8.03      1319.56    1649.41         ice\n",
       "4        13.85       6.16       797.11     850.63    fighting"
      ]
     },
     "execution_count": 13,
     "metadata": {},
     "output_type": "execute_result"
    }
   ],
   "source": [
    "df_mean_height_weight_type = pd.read_sql(mean_height_weight_per_type_str, engine)\n",
    "df_mean_height_weight_type.head()"
   ]
  },
  {
   "cell_type": "code",
   "execution_count": null,
   "id": "44408832-090d-4b14-bc84-a8d7daf90cfc",
   "metadata": {},
   "outputs": [],
   "source": []
  },
  {
   "cell_type": "markdown",
   "id": "9d9feb9e-de6d-45a7-b8c9-37cc55336bed",
   "metadata": {},
   "source": [
    "do a box plot or historgram"
   ]
  },
  {
   "cell_type": "code",
   "execution_count": null,
   "id": "0bd8a5f8-8b5e-42cb-bdd8-3f1d17f24912",
   "metadata": {},
   "outputs": [],
   "source": []
  },
  {
   "cell_type": "code",
   "execution_count": null,
   "id": "dcc51a60-63ef-4d06-ac19-501cf370eae0",
   "metadata": {},
   "outputs": [],
   "source": []
  },
  {
   "cell_type": "code",
   "execution_count": null,
   "id": "1b78303a-947f-43b6-88b0-42a56a6a96a0",
   "metadata": {},
   "outputs": [],
   "source": []
  },
  {
   "cell_type": "markdown",
   "id": "a0458d9c-c282-4133-bf1d-b7880e9c19e3",
   "metadata": {},
   "source": [
    "do a couple for certain types    \n",
    "ones with largest and smallest sd"
   ]
  },
  {
   "cell_type": "code",
   "execution_count": 14,
   "id": "6fcbb38f-f4ed-4ef1-a4f3-29eb42b45e22",
   "metadata": {},
   "outputs": [],
   "source": [
    "height_weight_fire_sql: str =\\\n",
    "\"\"\"\n",
    "    with cte as(\n",
    "    \tSELECT t.pokemonType, pt.pokemonId\n",
    "    \tFROM types t\n",
    "    \tjoin pokemontypes pt\n",
    "    \ton t.typeId = pt.typeId\n",
    "        )\n",
    "    select p.height , p.weight, c.pokemonType\n",
    "    from pokemon p\n",
    "    join cte c\n",
    "    on p.pokemonId = c.pokemonId\n",
    "    where  c.pokemonType = \"dragon\"\n",
    "    order by p.height Desc,  p.weight Desc;\n",
    "\"\"\""
   ]
  },
  {
   "cell_type": "code",
   "execution_count": 15,
   "id": "043121bb-139b-4960-a89f-321ae2054292",
   "metadata": {},
   "outputs": [
    {
     "data": {
      "text/html": [
       "<div>\n",
       "<style scoped>\n",
       "    .dataframe tbody tr th:only-of-type {\n",
       "        vertical-align: middle;\n",
       "    }\n",
       "\n",
       "    .dataframe tbody tr th {\n",
       "        vertical-align: top;\n",
       "    }\n",
       "\n",
       "    .dataframe thead th {\n",
       "        text-align: right;\n",
       "    }\n",
       "</style>\n",
       "<table border=\"1\" class=\"dataframe\">\n",
       "  <thead>\n",
       "    <tr style=\"text-align: right;\">\n",
       "      <th></th>\n",
       "      <th>height</th>\n",
       "      <th>weight</th>\n",
       "      <th>pokemonType</th>\n",
       "    </tr>\n",
       "  </thead>\n",
       "  <tbody>\n",
       "    <tr>\n",
       "      <th>0</th>\n",
       "      <td>200.0</td>\n",
       "      <td>9500.0</td>\n",
       "      <td>dragon</td>\n",
       "    </tr>\n",
       "    <tr>\n",
       "      <th>1</th>\n",
       "      <td>70.0</td>\n",
       "      <td>2065.0</td>\n",
       "      <td>dragon</td>\n",
       "    </tr>\n",
       "    <tr>\n",
       "      <th>2</th>\n",
       "      <td>55.0</td>\n",
       "      <td>8880.0</td>\n",
       "      <td>dragon</td>\n",
       "    </tr>\n",
       "    <tr>\n",
       "      <th>3</th>\n",
       "      <td>54.0</td>\n",
       "      <td>6830.0</td>\n",
       "      <td>dragon</td>\n",
       "    </tr>\n",
       "    <tr>\n",
       "      <th>4</th>\n",
       "      <td>52.0</td>\n",
       "      <td>4800.0</td>\n",
       "      <td>dragon</td>\n",
       "    </tr>\n",
       "  </tbody>\n",
       "</table>\n",
       "</div>"
      ],
      "text/plain": [
       "   height  weight pokemonType\n",
       "0   200.0  9500.0      dragon\n",
       "1    70.0  2065.0      dragon\n",
       "2    55.0  8880.0      dragon\n",
       "3    54.0  6830.0      dragon\n",
       "4    52.0  4800.0      dragon"
      ]
     },
     "execution_count": 15,
     "metadata": {},
     "output_type": "execute_result"
    }
   ],
   "source": [
    "df_height_weight_fire = pd.read_sql(height_weight_fire_sql, engine)\n",
    "df_height_weight_fire.head()"
   ]
  },
  {
   "cell_type": "code",
   "execution_count": null,
   "id": "a1f756e3-996b-477b-b1cc-efd413221536",
   "metadata": {},
   "outputs": [],
   "source": []
  },
  {
   "cell_type": "code",
   "execution_count": null,
   "id": "e7dc05b8-547e-44f0-a925-ce252e23f4f0",
   "metadata": {},
   "outputs": [],
   "source": []
  },
  {
   "cell_type": "code",
   "execution_count": null,
   "id": "c6b42e09-419f-4a5b-8dd1-b32d7c5791a5",
   "metadata": {},
   "outputs": [],
   "source": []
  },
  {
   "cell_type": "code",
   "execution_count": null,
   "id": "0e95ef1e-560b-4c29-a0c9-ba477cb61f93",
   "metadata": {},
   "outputs": [],
   "source": []
  },
  {
   "cell_type": "markdown",
   "id": "828d35e5-13f6-432d-8262-6dbc06a029e3",
   "metadata": {},
   "source": [
    "### Stats"
   ]
  },
  {
   "cell_type": "code",
   "execution_count": null,
   "id": "7423b9c0-7dd4-43ef-8507-45438ffa245a",
   "metadata": {},
   "outputs": [],
   "source": []
  },
  {
   "cell_type": "markdown",
   "id": "768564de-7cbc-4b50-b9fe-bacc09d206c2",
   "metadata": {},
   "source": [
    "Overall Stats of all pokemon"
   ]
  },
  {
   "cell_type": "code",
   "execution_count": 16,
   "id": "1b71386f-c545-4975-8744-696a1034de5e",
   "metadata": {},
   "outputs": [],
   "source": [
    "stats_all_pokemon_str: str = \\\n",
    "\"\"\"\n",
    "    select hp, attack,\n",
    "     defense, special_attack,\n",
    "     special_defense, speed, \n",
    "     (attack+defense) as 'physical_stats',\n",
    "     (special_attack+special_defense) as 'special_stats',\n",
    "     (hp+attack+defense+special_attack+special_defense+speed) as 'overall_stats'\n",
    "    from pokemon;\n",
    "\"\"\""
   ]
  },
  {
   "cell_type": "code",
   "execution_count": 17,
   "id": "e11873a5-384e-47ea-80d0-71aa85ad7455",
   "metadata": {},
   "outputs": [
    {
     "data": {
      "text/html": [
       "<div>\n",
       "<style scoped>\n",
       "    .dataframe tbody tr th:only-of-type {\n",
       "        vertical-align: middle;\n",
       "    }\n",
       "\n",
       "    .dataframe tbody tr th {\n",
       "        vertical-align: top;\n",
       "    }\n",
       "\n",
       "    .dataframe thead th {\n",
       "        text-align: right;\n",
       "    }\n",
       "</style>\n",
       "<table border=\"1\" class=\"dataframe\">\n",
       "  <thead>\n",
       "    <tr style=\"text-align: right;\">\n",
       "      <th></th>\n",
       "      <th>hp</th>\n",
       "      <th>attack</th>\n",
       "      <th>defense</th>\n",
       "      <th>special_attack</th>\n",
       "      <th>special_defense</th>\n",
       "      <th>speed</th>\n",
       "      <th>physical_stats</th>\n",
       "      <th>special_stats</th>\n",
       "      <th>overall_stats</th>\n",
       "    </tr>\n",
       "  </thead>\n",
       "  <tbody>\n",
       "    <tr>\n",
       "      <th>0</th>\n",
       "      <td>45</td>\n",
       "      <td>49</td>\n",
       "      <td>49</td>\n",
       "      <td>65</td>\n",
       "      <td>65</td>\n",
       "      <td>45</td>\n",
       "      <td>98</td>\n",
       "      <td>130</td>\n",
       "      <td>318</td>\n",
       "    </tr>\n",
       "    <tr>\n",
       "      <th>1</th>\n",
       "      <td>60</td>\n",
       "      <td>62</td>\n",
       "      <td>63</td>\n",
       "      <td>80</td>\n",
       "      <td>80</td>\n",
       "      <td>60</td>\n",
       "      <td>125</td>\n",
       "      <td>160</td>\n",
       "      <td>405</td>\n",
       "    </tr>\n",
       "    <tr>\n",
       "      <th>2</th>\n",
       "      <td>80</td>\n",
       "      <td>82</td>\n",
       "      <td>83</td>\n",
       "      <td>100</td>\n",
       "      <td>100</td>\n",
       "      <td>80</td>\n",
       "      <td>165</td>\n",
       "      <td>200</td>\n",
       "      <td>525</td>\n",
       "    </tr>\n",
       "    <tr>\n",
       "      <th>3</th>\n",
       "      <td>39</td>\n",
       "      <td>52</td>\n",
       "      <td>43</td>\n",
       "      <td>60</td>\n",
       "      <td>50</td>\n",
       "      <td>65</td>\n",
       "      <td>95</td>\n",
       "      <td>110</td>\n",
       "      <td>309</td>\n",
       "    </tr>\n",
       "    <tr>\n",
       "      <th>4</th>\n",
       "      <td>58</td>\n",
       "      <td>64</td>\n",
       "      <td>58</td>\n",
       "      <td>80</td>\n",
       "      <td>65</td>\n",
       "      <td>80</td>\n",
       "      <td>122</td>\n",
       "      <td>145</td>\n",
       "      <td>405</td>\n",
       "    </tr>\n",
       "  </tbody>\n",
       "</table>\n",
       "</div>"
      ],
      "text/plain": [
       "   hp  attack  defense  special_attack  special_defense  speed  \\\n",
       "0  45      49       49              65               65     45   \n",
       "1  60      62       63              80               80     60   \n",
       "2  80      82       83             100              100     80   \n",
       "3  39      52       43              60               50     65   \n",
       "4  58      64       58              80               65     80   \n",
       "\n",
       "   physical_stats  special_stats  overall_stats  \n",
       "0              98            130            318  \n",
       "1             125            160            405  \n",
       "2             165            200            525  \n",
       "3              95            110            309  \n",
       "4             122            145            405  "
      ]
     },
     "execution_count": 17,
     "metadata": {},
     "output_type": "execute_result"
    }
   ],
   "source": [
    "df_stats_all_pokemon = pd.read_sql(stats_all_pokemon_str, engine)\n",
    "df_stats_all_pokemon.head()"
   ]
  },
  {
   "cell_type": "code",
   "execution_count": null,
   "id": "fcc4770a-4eb7-4c6f-aa5f-9a990195f0c6",
   "metadata": {},
   "outputs": [],
   "source": []
  },
  {
   "cell_type": "code",
   "execution_count": null,
   "id": "1672b77f-cb09-4ff7-8693-3d75892e27c8",
   "metadata": {},
   "outputs": [],
   "source": []
  },
  {
   "cell_type": "code",
   "execution_count": null,
   "id": "2542e8f7-5984-43ef-8c63-142ea8dfe438",
   "metadata": {},
   "outputs": [],
   "source": []
  },
  {
   "cell_type": "markdown",
   "id": "68ec0445-b871-4161-ad5a-ac2c64fd94ad",
   "metadata": {},
   "source": [
    "Mean and std of stats for each pokemon type"
   ]
  },
  {
   "cell_type": "code",
   "execution_count": 18,
   "id": "3c66423e-d0a9-4fe3-bd33-b74e1923364d",
   "metadata": {},
   "outputs": [],
   "source": [
    "mean_stats_per_type_str: str = \\\n",
    "\"\"\"\n",
    "    WITH cte AS(\n",
    "    \tSELECT pt.pokemonId, t.pokemonType\n",
    "        from types t \n",
    "        join pokemontypes pt\n",
    "        on pt.typeId = t.typeId\n",
    "    ),\n",
    "    cte2 as(\n",
    "        select pokemonId,\n",
    "             (attack+defense) as 'physical_stats',\n",
    "             (special_attack+special_defense) as 'special_stats',\n",
    "             (hp+attack+defense+special_attack+special_defense+speed) as 'overall_stats'\n",
    "        from pokemon)\n",
    "    SELECT \n",
    "        c.pokemonType,\n",
    "        ROUND(avg(p.hp),2) mean_hp, ROUND(STD(p.hp),2) sd_hp,\n",
    "        ROUND(avg(p.attack),2) mean_attack, ROUND(STD(p.attack),2) sd_attack,\n",
    "        ROUND(avg(p.defense),2) mean_defense, ROUND(STD(p.defense),2) sd_defense,\n",
    "        ROUND(avg(p.special_attack),2) mean_special_attack, ROUND(STD(p.special_attack),2) sd_special_attack,\n",
    "        ROUND(avg(p.special_defense),2) mean_special_defense, ROUND(STD(p.special_defense),2) sd_special_defense,\n",
    "        ROUND(avg(p.speed),2) mean_speed, ROUND(STD(p.speed),2) sd_speed,\n",
    "        ROUND(avg(c2.physical_stats),2) mean_physical_stats, ROUND(STD(c2.physical_stats),2) sd_physical_stats,\n",
    "        ROUND(avg(c2.special_stats),2) mean_special_stats, ROUND(STD(c2.special_stats),2) sd_special_stats,\n",
    "        ROUND(avg(c2.overall_stats),2) mean_overall_stats, ROUND(STD(c2.overall_stats),2) sd_overall_stats\n",
    "    from pokemon p\n",
    "    join cte c\n",
    "        on c.pokemonId = p.pokemonId\n",
    "    join cte2 c2\n",
    "        on c2.pokemonId = p.pokemonId\n",
    "    group by c.pokemonType\n",
    "    order by mean_hp Desc;\n",
    "    \"\"\""
   ]
  },
  {
   "cell_type": "code",
   "execution_count": 19,
   "id": "4a15a58d-be17-4e99-bd97-b55db6698677",
   "metadata": {},
   "outputs": [
    {
     "data": {
      "text/html": [
       "<div>\n",
       "<style scoped>\n",
       "    .dataframe tbody tr th:only-of-type {\n",
       "        vertical-align: middle;\n",
       "    }\n",
       "\n",
       "    .dataframe tbody tr th {\n",
       "        vertical-align: top;\n",
       "    }\n",
       "\n",
       "    .dataframe thead th {\n",
       "        text-align: right;\n",
       "    }\n",
       "</style>\n",
       "<table border=\"1\" class=\"dataframe\">\n",
       "  <thead>\n",
       "    <tr style=\"text-align: right;\">\n",
       "      <th></th>\n",
       "      <th>pokemonType</th>\n",
       "      <th>mean_hp</th>\n",
       "      <th>sd_hp</th>\n",
       "      <th>mean_attack</th>\n",
       "      <th>sd_attack</th>\n",
       "      <th>mean_defense</th>\n",
       "      <th>sd_defense</th>\n",
       "      <th>mean_special_attack</th>\n",
       "      <th>sd_special_attack</th>\n",
       "      <th>mean_special_defense</th>\n",
       "      <th>sd_special_defense</th>\n",
       "      <th>mean_speed</th>\n",
       "      <th>sd_speed</th>\n",
       "      <th>mean_physical_stats</th>\n",
       "      <th>sd_physical_stats</th>\n",
       "      <th>mean_special_stats</th>\n",
       "      <th>sd_special_stats</th>\n",
       "      <th>mean_overall_stats</th>\n",
       "      <th>sd_overall_stats</th>\n",
       "    </tr>\n",
       "  </thead>\n",
       "  <tbody>\n",
       "    <tr>\n",
       "      <th>0</th>\n",
       "      <td>dragon</td>\n",
       "      <td>84.07</td>\n",
       "      <td>32.58</td>\n",
       "      <td>94.00</td>\n",
       "      <td>26.86</td>\n",
       "      <td>83.04</td>\n",
       "      <td>24.84</td>\n",
       "      <td>87.20</td>\n",
       "      <td>34.08</td>\n",
       "      <td>78.27</td>\n",
       "      <td>26.04</td>\n",
       "      <td>78.17</td>\n",
       "      <td>28.24</td>\n",
       "      <td>177.04</td>\n",
       "      <td>44.54</td>\n",
       "      <td>165.47</td>\n",
       "      <td>54.63</td>\n",
       "      <td>504.76</td>\n",
       "      <td>123.69</td>\n",
       "    </tr>\n",
       "    <tr>\n",
       "      <th>1</th>\n",
       "      <td>ice</td>\n",
       "      <td>80.08</td>\n",
       "      <td>27.00</td>\n",
       "      <td>82.27</td>\n",
       "      <td>29.49</td>\n",
       "      <td>75.73</td>\n",
       "      <td>32.23</td>\n",
       "      <td>74.94</td>\n",
       "      <td>26.83</td>\n",
       "      <td>75.19</td>\n",
       "      <td>29.71</td>\n",
       "      <td>65.44</td>\n",
       "      <td>27.40</td>\n",
       "      <td>158.00</td>\n",
       "      <td>53.82</td>\n",
       "      <td>150.13</td>\n",
       "      <td>50.13</td>\n",
       "      <td>453.65</td>\n",
       "      <td>106.12</td>\n",
       "    </tr>\n",
       "    <tr>\n",
       "      <th>2</th>\n",
       "      <td>fighting</td>\n",
       "      <td>77.75</td>\n",
       "      <td>23.52</td>\n",
       "      <td>104.33</td>\n",
       "      <td>25.17</td>\n",
       "      <td>76.37</td>\n",
       "      <td>24.48</td>\n",
       "      <td>63.59</td>\n",
       "      <td>25.39</td>\n",
       "      <td>69.70</td>\n",
       "      <td>22.45</td>\n",
       "      <td>75.40</td>\n",
       "      <td>27.19</td>\n",
       "      <td>180.70</td>\n",
       "      <td>42.87</td>\n",
       "      <td>133.29</td>\n",
       "      <td>37.00</td>\n",
       "      <td>467.14</td>\n",
       "      <td>100.23</td>\n",
       "    </tr>\n",
       "    <tr>\n",
       "      <th>3</th>\n",
       "      <td>ground</td>\n",
       "      <td>77.05</td>\n",
       "      <td>26.90</td>\n",
       "      <td>88.44</td>\n",
       "      <td>27.09</td>\n",
       "      <td>85.45</td>\n",
       "      <td>33.05</td>\n",
       "      <td>57.51</td>\n",
       "      <td>21.52</td>\n",
       "      <td>64.76</td>\n",
       "      <td>21.34</td>\n",
       "      <td>58.47</td>\n",
       "      <td>25.58</td>\n",
       "      <td>173.89</td>\n",
       "      <td>51.20</td>\n",
       "      <td>122.27</td>\n",
       "      <td>38.70</td>\n",
       "      <td>431.68</td>\n",
       "      <td>103.77</td>\n",
       "    </tr>\n",
       "    <tr>\n",
       "      <th>4</th>\n",
       "      <td>normal</td>\n",
       "      <td>76.56</td>\n",
       "      <td>33.87</td>\n",
       "      <td>74.01</td>\n",
       "      <td>28.34</td>\n",
       "      <td>60.30</td>\n",
       "      <td>22.13</td>\n",
       "      <td>59.13</td>\n",
       "      <td>25.33</td>\n",
       "      <td>63.94</td>\n",
       "      <td>23.70</td>\n",
       "      <td>68.91</td>\n",
       "      <td>26.75</td>\n",
       "      <td>134.31</td>\n",
       "      <td>46.69</td>\n",
       "      <td>123.07</td>\n",
       "      <td>43.94</td>\n",
       "      <td>402.84</td>\n",
       "      <td>108.51</td>\n",
       "    </tr>\n",
       "  </tbody>\n",
       "</table>\n",
       "</div>"
      ],
      "text/plain": [
       "  pokemonType  mean_hp  sd_hp  mean_attack  sd_attack  mean_defense  \\\n",
       "0      dragon    84.07  32.58        94.00      26.86         83.04   \n",
       "1         ice    80.08  27.00        82.27      29.49         75.73   \n",
       "2    fighting    77.75  23.52       104.33      25.17         76.37   \n",
       "3      ground    77.05  26.90        88.44      27.09         85.45   \n",
       "4      normal    76.56  33.87        74.01      28.34         60.30   \n",
       "\n",
       "   sd_defense  mean_special_attack  sd_special_attack  mean_special_defense  \\\n",
       "0       24.84                87.20              34.08                 78.27   \n",
       "1       32.23                74.94              26.83                 75.19   \n",
       "2       24.48                63.59              25.39                 69.70   \n",
       "3       33.05                57.51              21.52                 64.76   \n",
       "4       22.13                59.13              25.33                 63.94   \n",
       "\n",
       "   sd_special_defense  mean_speed  sd_speed  mean_physical_stats  \\\n",
       "0               26.04       78.17     28.24               177.04   \n",
       "1               29.71       65.44     27.40               158.00   \n",
       "2               22.45       75.40     27.19               180.70   \n",
       "3               21.34       58.47     25.58               173.89   \n",
       "4               23.70       68.91     26.75               134.31   \n",
       "\n",
       "   sd_physical_stats  mean_special_stats  sd_special_stats  \\\n",
       "0              44.54              165.47             54.63   \n",
       "1              53.82              150.13             50.13   \n",
       "2              42.87              133.29             37.00   \n",
       "3              51.20              122.27             38.70   \n",
       "4              46.69              123.07             43.94   \n",
       "\n",
       "   mean_overall_stats  sd_overall_stats  \n",
       "0              504.76            123.69  \n",
       "1              453.65            106.12  \n",
       "2              467.14            100.23  \n",
       "3              431.68            103.77  \n",
       "4              402.84            108.51  "
      ]
     },
     "execution_count": 19,
     "metadata": {},
     "output_type": "execute_result"
    }
   ],
   "source": [
    "df_mean_stats_per_type = pd.read_sql(mean_stats_per_type_str, engine)\n",
    "df_mean_stats_per_type.head()"
   ]
  },
  {
   "cell_type": "code",
   "execution_count": null,
   "id": "e9d033d8-acaa-4816-a342-afce325aa308",
   "metadata": {},
   "outputs": [],
   "source": []
  }
 ],
 "metadata": {
  "kernelspec": {
   "display_name": "Python 3 (ipykernel)",
   "language": "python",
   "name": "python3"
  },
  "language_info": {
   "codemirror_mode": {
    "name": "ipython",
    "version": 3
   },
   "file_extension": ".py",
   "mimetype": "text/x-python",
   "name": "python",
   "nbconvert_exporter": "python",
   "pygments_lexer": "ipython3",
   "version": "3.12.2"
  }
 },
 "nbformat": 4,
 "nbformat_minor": 5
}
