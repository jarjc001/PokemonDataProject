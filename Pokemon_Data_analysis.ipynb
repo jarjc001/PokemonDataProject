{
 "cells": [
  {
   "cell_type": "markdown",
   "id": "6fd1d224-3a84-42d2-a91b-8f264411cd27",
   "metadata": {},
   "source": [
    "# Pokemon Data Analysis"
   ]
  },
  {
   "cell_type": "markdown",
   "id": "727e81a3-8307-456d-8318-dfa44d28ea05",
   "metadata": {},
   "source": [
    "Using [PokéAPI](https://pokeapi.co/), I will create a data pipeline in python to extract and transform data about Pokémon in a MySQL database. From there, I’ll analyse the different aspects of the data in python and SQL"
   ]
  },
  {
   "cell_type": "code",
   "execution_count": 1,
   "id": "88450765-f7ea-42a5-8098-f8c0794a3639",
   "metadata": {},
   "outputs": [],
   "source": [
    "import pokemon_pipline as pk\n",
    "import pandas as pd\n",
    "from sqlalchemy import create_engine"
   ]
  },
  {
   "cell_type": "markdown",
   "id": "af641b77-2f60-424a-af05-bcfc8f949e33",
   "metadata": {},
   "source": [
    "## Data Pipeline"
   ]
  },
  {
   "cell_type": "markdown",
   "id": "81b04a79-f781-48eb-af4c-2f981773e999",
   "metadata": {},
   "source": [
    "### 1. Extract and Transform Data"
   ]
  },
  {
   "cell_type": "markdown",
   "id": "2f24d1fc-1132-4011-a26b-50bebba88828",
   "metadata": {},
   "source": [
    "Firstly, by using the requests package and a Pokémon object, I will create a list containing the information of every Pokémon, then convert the list into a pandas DataFrame as a more easily accessible form."
   ]
  },
  {
   "cell_type": "code",
   "execution_count": 2,
   "id": "78be66fe-3782-42ad-ac29-e85ab0584649",
   "metadata": {},
   "outputs": [
    {
     "data": {
      "text/html": [
       "<div>\n",
       "<style scoped>\n",
       "    .dataframe tbody tr th:only-of-type {\n",
       "        vertical-align: middle;\n",
       "    }\n",
       "\n",
       "    .dataframe tbody tr th {\n",
       "        vertical-align: top;\n",
       "    }\n",
       "\n",
       "    .dataframe thead th {\n",
       "        text-align: right;\n",
       "    }\n",
       "</style>\n",
       "<table border=\"1\" class=\"dataframe\">\n",
       "  <thead>\n",
       "    <tr style=\"text-align: right;\">\n",
       "      <th></th>\n",
       "      <th>pokemonId</th>\n",
       "      <th>name</th>\n",
       "      <th>type1</th>\n",
       "      <th>type2</th>\n",
       "      <th>height</th>\n",
       "      <th>weight</th>\n",
       "      <th>hp</th>\n",
       "      <th>attack</th>\n",
       "      <th>defense</th>\n",
       "      <th>special_attack</th>\n",
       "      <th>special_defense</th>\n",
       "      <th>speed</th>\n",
       "    </tr>\n",
       "  </thead>\n",
       "  <tbody>\n",
       "    <tr>\n",
       "      <th>0</th>\n",
       "      <td>1</td>\n",
       "      <td>bulbasaur</td>\n",
       "      <td>grass</td>\n",
       "      <td>poison</td>\n",
       "      <td>7</td>\n",
       "      <td>69</td>\n",
       "      <td>45</td>\n",
       "      <td>49</td>\n",
       "      <td>49</td>\n",
       "      <td>65</td>\n",
       "      <td>65</td>\n",
       "      <td>45</td>\n",
       "    </tr>\n",
       "    <tr>\n",
       "      <th>1</th>\n",
       "      <td>2</td>\n",
       "      <td>ivysaur</td>\n",
       "      <td>grass</td>\n",
       "      <td>poison</td>\n",
       "      <td>10</td>\n",
       "      <td>130</td>\n",
       "      <td>60</td>\n",
       "      <td>62</td>\n",
       "      <td>63</td>\n",
       "      <td>80</td>\n",
       "      <td>80</td>\n",
       "      <td>60</td>\n",
       "    </tr>\n",
       "    <tr>\n",
       "      <th>2</th>\n",
       "      <td>3</td>\n",
       "      <td>venusaur</td>\n",
       "      <td>grass</td>\n",
       "      <td>poison</td>\n",
       "      <td>20</td>\n",
       "      <td>1000</td>\n",
       "      <td>80</td>\n",
       "      <td>82</td>\n",
       "      <td>83</td>\n",
       "      <td>100</td>\n",
       "      <td>100</td>\n",
       "      <td>80</td>\n",
       "    </tr>\n",
       "    <tr>\n",
       "      <th>3</th>\n",
       "      <td>4</td>\n",
       "      <td>charmander</td>\n",
       "      <td>fire</td>\n",
       "      <td>None</td>\n",
       "      <td>6</td>\n",
       "      <td>85</td>\n",
       "      <td>39</td>\n",
       "      <td>52</td>\n",
       "      <td>43</td>\n",
       "      <td>60</td>\n",
       "      <td>50</td>\n",
       "      <td>65</td>\n",
       "    </tr>\n",
       "    <tr>\n",
       "      <th>4</th>\n",
       "      <td>5</td>\n",
       "      <td>charmeleon</td>\n",
       "      <td>fire</td>\n",
       "      <td>None</td>\n",
       "      <td>11</td>\n",
       "      <td>190</td>\n",
       "      <td>58</td>\n",
       "      <td>64</td>\n",
       "      <td>58</td>\n",
       "      <td>80</td>\n",
       "      <td>65</td>\n",
       "      <td>80</td>\n",
       "    </tr>\n",
       "  </tbody>\n",
       "</table>\n",
       "</div>"
      ],
      "text/plain": [
       "   pokemonId        name  type1   type2  height  weight  hp  attack  defense  \\\n",
       "0          1   bulbasaur  grass  poison       7      69  45      49       49   \n",
       "1          2     ivysaur  grass  poison      10     130  60      62       63   \n",
       "2          3    venusaur  grass  poison      20    1000  80      82       83   \n",
       "3          4  charmander   fire    None       6      85  39      52       43   \n",
       "4          5  charmeleon   fire    None      11     190  58      64       58   \n",
       "\n",
       "   special_attack  special_defense  speed  \n",
       "0              65               65     45  \n",
       "1              80               80     60  \n",
       "2             100              100     80  \n",
       "3              60               50     65  \n",
       "4              80               65     80  "
      ]
     },
     "execution_count": 2,
     "metadata": {},
     "output_type": "execute_result"
    }
   ],
   "source": [
    "pokemon_base_url: str = \"https://pokeapi.co/api/v2/pokemon/\"\n",
    "pokemon_list: list = pk.import_pokemon_data_to_list(25,url = pokemon_base_url)\n",
    "\n",
    "pokemon_df: pd.DataFrame = pk.list_pokemon_data_to_pd(pokemon_list)\n",
    "pokemon_df.head()"
   ]
  },
  {
   "cell_type": "markdown",
   "id": "6017df02-b65e-47fb-8a1a-a4afe7488530",
   "metadata": {},
   "source": [
    "I will do the same for Pokémon types, ending up with a DataFrame of Pokémon types and a corresponding ID\n"
   ]
  },
  {
   "cell_type": "code",
   "execution_count": 3,
   "id": "3ca45edc-2152-4de6-82ee-298163c9152e",
   "metadata": {},
   "outputs": [
    {
     "data": {
      "text/html": [
       "<div>\n",
       "<style scoped>\n",
       "    .dataframe tbody tr th:only-of-type {\n",
       "        vertical-align: middle;\n",
       "    }\n",
       "\n",
       "    .dataframe tbody tr th {\n",
       "        vertical-align: top;\n",
       "    }\n",
       "\n",
       "    .dataframe thead th {\n",
       "        text-align: right;\n",
       "    }\n",
       "</style>\n",
       "<table border=\"1\" class=\"dataframe\">\n",
       "  <thead>\n",
       "    <tr style=\"text-align: right;\">\n",
       "      <th></th>\n",
       "      <th>pokemonType</th>\n",
       "      <th>typeID</th>\n",
       "    </tr>\n",
       "  </thead>\n",
       "  <tbody>\n",
       "    <tr>\n",
       "      <th>0</th>\n",
       "      <td>normal</td>\n",
       "      <td>0</td>\n",
       "    </tr>\n",
       "    <tr>\n",
       "      <th>1</th>\n",
       "      <td>fighting</td>\n",
       "      <td>1</td>\n",
       "    </tr>\n",
       "    <tr>\n",
       "      <th>2</th>\n",
       "      <td>flying</td>\n",
       "      <td>2</td>\n",
       "    </tr>\n",
       "    <tr>\n",
       "      <th>3</th>\n",
       "      <td>poison</td>\n",
       "      <td>3</td>\n",
       "    </tr>\n",
       "    <tr>\n",
       "      <th>4</th>\n",
       "      <td>ground</td>\n",
       "      <td>4</td>\n",
       "    </tr>\n",
       "  </tbody>\n",
       "</table>\n",
       "</div>"
      ],
      "text/plain": [
       "  pokemonType  typeID\n",
       "0      normal       0\n",
       "1    fighting       1\n",
       "2      flying       2\n",
       "3      poison       3\n",
       "4      ground       4"
      ]
     },
     "execution_count": 3,
     "metadata": {},
     "output_type": "execute_result"
    }
   ],
   "source": [
    "type_base_url: str = \"https://pokeapi.co/api/v2/type/\"\n",
    "pokemon_types: list = pk.import_type_data_to_list(url = type_base_url)\n",
    "\n",
    "types_df: pd.DataFrame = pk.list_types_data_to_pd(pokemon_types)\n",
    "types_df.head()"
   ]
  },
  {
   "cell_type": "markdown",
   "id": "4327f19d-60bf-49de-8854-3547c84b6e4c",
   "metadata": {},
   "source": [
    "### 2. Load Data to Repository"
   ]
  },
  {
   "cell_type": "markdown",
   "id": "e3b953f4-14e0-45f4-93cc-f7ee6e682df0",
   "metadata": {},
   "source": [
    "Can load the Pokémon data in a csv and parquet file"
   ]
  },
  {
   "cell_type": "code",
   "execution_count": null,
   "id": "947249f9-cfed-4b18-9554-f421762ff3ed",
   "metadata": {},
   "outputs": [],
   "source": [
    "pk.data_pd_to_csv(pokemon_df)\n",
    "pk.data_pd_to_parquet(pokemon_df)"
   ]
  },
  {
   "cell_type": "markdown",
   "id": "bccc8892-8919-454e-afa5-40b227e9e095",
   "metadata": {},
   "source": [
    "However, for more functionality, I will export both DataFrames into a MySQL Database. The following Database and tables are created using mysql.connector. As a Pokémon can have more than one type, the Database is in 2nd normal form to remove duplicate data rows and ensure the data dependencies.       \n",
    "![Pokémon Database erd](PokemonDB_erd.png)"
   ]
  },
  {
   "cell_type": "code",
   "execution_count": 4,
   "id": "c6c8133e-4819-40a6-894d-1adf602b61da",
   "metadata": {},
   "outputs": [],
   "source": [
    "pk.create_db()\n",
    "pk.create_db_tables()"
   ]
  },
  {
   "cell_type": "markdown",
   "id": "8b420b9d-b54c-4867-921e-eb721829213f",
   "metadata": {},
   "source": [
    "Can now populate the database with mysql.connector, sqlalchemy and pandas, making sure to insert the table data in the right order.    \n",
    "This will only work if all the tables are empty, otherwise the data insertion will fail\n"
   ]
  },
  {
   "cell_type": "code",
   "execution_count": 5,
   "id": "7531445f-fd3d-4fcd-b2b7-6ab9459df9ef",
   "metadata": {},
   "outputs": [],
   "source": [
    "#if the tables are not empty\n",
    "#pk.reset_db_table(\"all\")\n",
    "\n",
    "#insert pokemon data\n",
    "pk.insert_pokemon_data_to_db(pokemon_df)\n",
    "\n",
    "#insert type data\n",
    "pk.insert_types_data_to_db(types_df)\n",
    "\n",
    "# insert many to many table data\n",
    "pk.insert_many_many_data_to_db(pokemon_df,types_df)"
   ]
  },
  {
   "cell_type": "markdown",
   "id": "92d613da-b011-49d1-b526-855e789036bd",
   "metadata": {},
   "source": [
    "## Data Analysis"
   ]
  },
  {
   "cell_type": "markdown",
   "id": "5d0ec2e3-9386-43a0-bce3-7dadbbd6b4d0",
   "metadata": {},
   "source": [
    "Now"
   ]
  },
  {
   "cell_type": "markdown",
   "id": "2a004d46-70ce-470b-866d-3650647ed548",
   "metadata": {},
   "source": [
    "### Data from sql to python (WIP)"
   ]
  },
  {
   "cell_type": "markdown",
   "id": "6f3b5f35-4fec-4b37-ab8f-30aea7a4ab8c",
   "metadata": {},
   "source": [
    "With the data in the database, I can now query the data using sqlalchemy and pandas"
   ]
  },
  {
   "cell_type": "code",
   "execution_count": 6,
   "id": "e83b3cf1-a0ef-4c76-b14b-c426af9ed953",
   "metadata": {},
   "outputs": [],
   "source": [
    "engine = create_engine(pk.SQL_ALCHEMY_CON_STRING)"
   ]
  },
  {
   "cell_type": "markdown",
   "id": "51941801-c8cc-4f09-b3c5-9ef36db0b5d9",
   "metadata": {},
   "source": [
    " -------   query the whole database"
   ]
  },
  {
   "cell_type": "code",
   "execution_count": 9,
   "id": "cd441fcc-e448-40f0-a757-dd3bd7cd3b1c",
   "metadata": {},
   "outputs": [],
   "source": [
    "whole_db_str: str = \\\n",
    "\"\"\"\n",
    "    SELECT *\n",
    "    FROM pokemon p\n",
    "    inner Join pokemontypes pt\n",
    "    on p.pokemonId = pt.pokemonId\n",
    "    join types t\n",
    "    on t.typeId = pt.typeId\n",
    "    order by p.pokemonId;\n",
    "\"\"\""
   ]
  },
  {
   "cell_type": "code",
   "execution_count": 13,
   "id": "07efbbd0-efd0-4136-9a52-4de03d121ab6",
   "metadata": {},
   "outputs": [
    {
     "data": {
      "text/html": [
       "<div>\n",
       "<style scoped>\n",
       "    .dataframe tbody tr th:only-of-type {\n",
       "        vertical-align: middle;\n",
       "    }\n",
       "\n",
       "    .dataframe tbody tr th {\n",
       "        vertical-align: top;\n",
       "    }\n",
       "\n",
       "    .dataframe thead th {\n",
       "        text-align: right;\n",
       "    }\n",
       "</style>\n",
       "<table border=\"1\" class=\"dataframe\">\n",
       "  <thead>\n",
       "    <tr style=\"text-align: right;\">\n",
       "      <th></th>\n",
       "      <th>pokemonId</th>\n",
       "      <th>name</th>\n",
       "      <th>height</th>\n",
       "      <th>weight</th>\n",
       "      <th>hp</th>\n",
       "      <th>attack</th>\n",
       "      <th>defense</th>\n",
       "      <th>special_attack</th>\n",
       "      <th>special_defense</th>\n",
       "      <th>speed</th>\n",
       "      <th>pokemonId</th>\n",
       "      <th>typeId</th>\n",
       "      <th>typeId</th>\n",
       "      <th>pokemonType</th>\n",
       "    </tr>\n",
       "  </thead>\n",
       "  <tbody>\n",
       "    <tr>\n",
       "      <th>0</th>\n",
       "      <td>1</td>\n",
       "      <td>bulbasaur</td>\n",
       "      <td>7.0</td>\n",
       "      <td>69.0</td>\n",
       "      <td>45</td>\n",
       "      <td>49</td>\n",
       "      <td>49</td>\n",
       "      <td>65</td>\n",
       "      <td>65</td>\n",
       "      <td>45</td>\n",
       "      <td>1</td>\n",
       "      <td>3</td>\n",
       "      <td>3</td>\n",
       "      <td>poison</td>\n",
       "    </tr>\n",
       "    <tr>\n",
       "      <th>1</th>\n",
       "      <td>1</td>\n",
       "      <td>bulbasaur</td>\n",
       "      <td>7.0</td>\n",
       "      <td>69.0</td>\n",
       "      <td>45</td>\n",
       "      <td>49</td>\n",
       "      <td>49</td>\n",
       "      <td>65</td>\n",
       "      <td>65</td>\n",
       "      <td>45</td>\n",
       "      <td>1</td>\n",
       "      <td>11</td>\n",
       "      <td>11</td>\n",
       "      <td>grass</td>\n",
       "    </tr>\n",
       "    <tr>\n",
       "      <th>2</th>\n",
       "      <td>2</td>\n",
       "      <td>ivysaur</td>\n",
       "      <td>10.0</td>\n",
       "      <td>130.0</td>\n",
       "      <td>60</td>\n",
       "      <td>62</td>\n",
       "      <td>63</td>\n",
       "      <td>80</td>\n",
       "      <td>80</td>\n",
       "      <td>60</td>\n",
       "      <td>2</td>\n",
       "      <td>3</td>\n",
       "      <td>3</td>\n",
       "      <td>poison</td>\n",
       "    </tr>\n",
       "    <tr>\n",
       "      <th>3</th>\n",
       "      <td>2</td>\n",
       "      <td>ivysaur</td>\n",
       "      <td>10.0</td>\n",
       "      <td>130.0</td>\n",
       "      <td>60</td>\n",
       "      <td>62</td>\n",
       "      <td>63</td>\n",
       "      <td>80</td>\n",
       "      <td>80</td>\n",
       "      <td>60</td>\n",
       "      <td>2</td>\n",
       "      <td>11</td>\n",
       "      <td>11</td>\n",
       "      <td>grass</td>\n",
       "    </tr>\n",
       "    <tr>\n",
       "      <th>4</th>\n",
       "      <td>3</td>\n",
       "      <td>venusaur</td>\n",
       "      <td>20.0</td>\n",
       "      <td>1000.0</td>\n",
       "      <td>80</td>\n",
       "      <td>82</td>\n",
       "      <td>83</td>\n",
       "      <td>100</td>\n",
       "      <td>100</td>\n",
       "      <td>80</td>\n",
       "      <td>3</td>\n",
       "      <td>3</td>\n",
       "      <td>3</td>\n",
       "      <td>poison</td>\n",
       "    </tr>\n",
       "  </tbody>\n",
       "</table>\n",
       "</div>"
      ],
      "text/plain": [
       "   pokemonId       name  height  weight  hp  attack  defense  special_attack  \\\n",
       "0          1  bulbasaur     7.0    69.0  45      49       49              65   \n",
       "1          1  bulbasaur     7.0    69.0  45      49       49              65   \n",
       "2          2    ivysaur    10.0   130.0  60      62       63              80   \n",
       "3          2    ivysaur    10.0   130.0  60      62       63              80   \n",
       "4          3   venusaur    20.0  1000.0  80      82       83             100   \n",
       "\n",
       "   special_defense  speed  pokemonId  typeId  typeId pokemonType  \n",
       "0               65     45          1       3       3      poison  \n",
       "1               65     45          1      11      11       grass  \n",
       "2               80     60          2       3       3      poison  \n",
       "3               80     60          2      11      11       grass  \n",
       "4              100     80          3       3       3      poison  "
      ]
     },
     "execution_count": 13,
     "metadata": {},
     "output_type": "execute_result"
    }
   ],
   "source": [
    "df_whole_db =pd.read_sql(whole_db_str, engine)\n",
    "df_whole_db.head()"
   ]
  },
  {
   "cell_type": "code",
   "execution_count": null,
   "id": "db013499-9a54-4657-af81-1efd9cd7d516",
   "metadata": {},
   "outputs": [],
   "source": []
  },
  {
   "cell_type": "markdown",
   "id": "023eba0a-dd35-4fd1-84a0-10ce5a069d63",
   "metadata": {},
   "source": [
    "get data from sql in each query or just use pandas"
   ]
  },
  {
   "cell_type": "code",
   "execution_count": null,
   "id": "bbcea743-aff0-43be-8f5a-589138bddb1b",
   "metadata": {},
   "outputs": [],
   "source": []
  },
  {
   "cell_type": "code",
   "execution_count": null,
   "id": "7ef1fa90-d7b7-48f0-81f3-6012396b66cf",
   "metadata": {},
   "outputs": [],
   "source": []
  },
  {
   "cell_type": "markdown",
   "id": "2fe0932e-726d-40b3-beb1-d213cac7d813",
   "metadata": {},
   "source": [
    "for each question:  \n",
    "type   \n",
    "height/weight    \n",
    "stats"
   ]
  },
  {
   "cell_type": "code",
   "execution_count": null,
   "id": "484c438d-e5ed-4488-a2ca-bc3b2e084b56",
   "metadata": {},
   "outputs": [],
   "source": []
  }
 ],
 "metadata": {
  "kernelspec": {
   "display_name": "Python 3 (ipykernel)",
   "language": "python",
   "name": "python3"
  },
  "language_info": {
   "codemirror_mode": {
    "name": "ipython",
    "version": 3
   },
   "file_extension": ".py",
   "mimetype": "text/x-python",
   "name": "python",
   "nbconvert_exporter": "python",
   "pygments_lexer": "ipython3",
   "version": "3.12.2"
  }
 },
 "nbformat": 4,
 "nbformat_minor": 5
}
