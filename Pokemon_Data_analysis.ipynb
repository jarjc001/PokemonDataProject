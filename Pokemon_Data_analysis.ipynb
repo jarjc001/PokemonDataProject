{
 "cells": [
  {
   "cell_type": "markdown",
   "id": "6fd1d224-3a84-42d2-a91b-8f264411cd27",
   "metadata": {},
   "source": [
    "# Pokemon Data Analysis"
   ]
  },
  {
   "cell_type": "markdown",
   "id": "727e81a3-8307-456d-8318-dfa44d28ea05",
   "metadata": {},
   "source": [
    "Using [PokéAPI](https://pokeapi.co/), I will create a data pipeline in python to extract and transform data about Pokémon in a MySQL database. From there, I’ll analyse the different aspects of the data in python and SQL"
   ]
  },
  {
   "cell_type": "code",
   "execution_count": 2,
   "id": "88450765-f7ea-42a5-8098-f8c0794a3639",
   "metadata": {},
   "outputs": [],
   "source": [
    "import pokemon_pipline as pk\n",
    "import pandas as pd\n",
    "from sqlalchemy import create_engine\n",
    "import matplotlib.pyplot as plt"
   ]
  },
  {
   "cell_type": "markdown",
   "id": "af641b77-2f60-424a-af05-bcfc8f949e33",
   "metadata": {
    "jp-MarkdownHeadingCollapsed": true
   },
   "source": [
    "## Data Pipeline"
   ]
  },
  {
   "cell_type": "markdown",
   "id": "81b04a79-f781-48eb-af4c-2f981773e999",
   "metadata": {},
   "source": [
    "### 1. Extract and Transform Data"
   ]
  },
  {
   "cell_type": "markdown",
   "id": "2f24d1fc-1132-4011-a26b-50bebba88828",
   "metadata": {},
   "source": [
    "Firstly, by using the requests package and a Pokémon object, I will create a list containing the information of every Pokémon, then convert the list into a pandas DataFrame as a more easily accessible form."
   ]
  },
  {
   "cell_type": "code",
   "execution_count": 7,
   "id": "78be66fe-3782-42ad-ac29-e85ab0584649",
   "metadata": {},
   "outputs": [
    {
     "data": {
      "text/html": [
       "<div>\n",
       "<style scoped>\n",
       "    .dataframe tbody tr th:only-of-type {\n",
       "        vertical-align: middle;\n",
       "    }\n",
       "\n",
       "    .dataframe tbody tr th {\n",
       "        vertical-align: top;\n",
       "    }\n",
       "\n",
       "    .dataframe thead th {\n",
       "        text-align: right;\n",
       "    }\n",
       "</style>\n",
       "<table border=\"1\" class=\"dataframe\">\n",
       "  <thead>\n",
       "    <tr style=\"text-align: right;\">\n",
       "      <th></th>\n",
       "      <th>pokemonId</th>\n",
       "      <th>name</th>\n",
       "      <th>type1</th>\n",
       "      <th>type2</th>\n",
       "      <th>height</th>\n",
       "      <th>weight</th>\n",
       "      <th>hp</th>\n",
       "      <th>attack</th>\n",
       "      <th>defense</th>\n",
       "      <th>special_attack</th>\n",
       "      <th>special_defense</th>\n",
       "      <th>speed</th>\n",
       "    </tr>\n",
       "  </thead>\n",
       "  <tbody>\n",
       "    <tr>\n",
       "      <th>0</th>\n",
       "      <td>1</td>\n",
       "      <td>bulbasaur</td>\n",
       "      <td>grass</td>\n",
       "      <td>poison</td>\n",
       "      <td>7</td>\n",
       "      <td>69</td>\n",
       "      <td>45</td>\n",
       "      <td>49</td>\n",
       "      <td>49</td>\n",
       "      <td>65</td>\n",
       "      <td>65</td>\n",
       "      <td>45</td>\n",
       "    </tr>\n",
       "    <tr>\n",
       "      <th>1</th>\n",
       "      <td>2</td>\n",
       "      <td>ivysaur</td>\n",
       "      <td>grass</td>\n",
       "      <td>poison</td>\n",
       "      <td>10</td>\n",
       "      <td>130</td>\n",
       "      <td>60</td>\n",
       "      <td>62</td>\n",
       "      <td>63</td>\n",
       "      <td>80</td>\n",
       "      <td>80</td>\n",
       "      <td>60</td>\n",
       "    </tr>\n",
       "    <tr>\n",
       "      <th>2</th>\n",
       "      <td>3</td>\n",
       "      <td>venusaur</td>\n",
       "      <td>grass</td>\n",
       "      <td>poison</td>\n",
       "      <td>20</td>\n",
       "      <td>1000</td>\n",
       "      <td>80</td>\n",
       "      <td>82</td>\n",
       "      <td>83</td>\n",
       "      <td>100</td>\n",
       "      <td>100</td>\n",
       "      <td>80</td>\n",
       "    </tr>\n",
       "    <tr>\n",
       "      <th>3</th>\n",
       "      <td>4</td>\n",
       "      <td>charmander</td>\n",
       "      <td>fire</td>\n",
       "      <td>None</td>\n",
       "      <td>6</td>\n",
       "      <td>85</td>\n",
       "      <td>39</td>\n",
       "      <td>52</td>\n",
       "      <td>43</td>\n",
       "      <td>60</td>\n",
       "      <td>50</td>\n",
       "      <td>65</td>\n",
       "    </tr>\n",
       "    <tr>\n",
       "      <th>4</th>\n",
       "      <td>5</td>\n",
       "      <td>charmeleon</td>\n",
       "      <td>fire</td>\n",
       "      <td>None</td>\n",
       "      <td>11</td>\n",
       "      <td>190</td>\n",
       "      <td>58</td>\n",
       "      <td>64</td>\n",
       "      <td>58</td>\n",
       "      <td>80</td>\n",
       "      <td>65</td>\n",
       "      <td>80</td>\n",
       "    </tr>\n",
       "  </tbody>\n",
       "</table>\n",
       "</div>"
      ],
      "text/plain": [
       "   pokemonId        name  type1   type2  height  weight  hp  attack  defense  \\\n",
       "0          1   bulbasaur  grass  poison       7      69  45      49       49   \n",
       "1          2     ivysaur  grass  poison      10     130  60      62       63   \n",
       "2          3    venusaur  grass  poison      20    1000  80      82       83   \n",
       "3          4  charmander   fire    None       6      85  39      52       43   \n",
       "4          5  charmeleon   fire    None      11     190  58      64       58   \n",
       "\n",
       "   special_attack  special_defense  speed  \n",
       "0              65               65     45  \n",
       "1              80               80     60  \n",
       "2             100              100     80  \n",
       "3              60               50     65  \n",
       "4              80               65     80  "
      ]
     },
     "execution_count": 7,
     "metadata": {},
     "output_type": "execute_result"
    }
   ],
   "source": [
    "pokemon_base_url: str = \"https://pokeapi.co/api/v2/pokemon/\"\n",
    "pokemon_list: list = pk.import_pokemon_data_to_list(25,url = pokemon_base_url)\n",
    "\n",
    "pokemon_df: pd.DataFrame = pk.list_pokemon_data_to_pd(pokemon_list)\n",
    "pokemon_df.head()"
   ]
  },
  {
   "cell_type": "markdown",
   "id": "6017df02-b65e-47fb-8a1a-a4afe7488530",
   "metadata": {},
   "source": [
    "I will do the same for Pokémon types, ending up with a DataFrame of Pokémon types and a corresponding ID\n"
   ]
  },
  {
   "cell_type": "code",
   "execution_count": null,
   "id": "3ca45edc-2152-4de6-82ee-298163c9152e",
   "metadata": {},
   "outputs": [],
   "source": [
    "type_base_url: str = \"https://pokeapi.co/api/v2/type/\"\n",
    "pokemon_types: list = pk.import_type_data_to_list(url = type_base_url)\n",
    "\n",
    "types_df: pd.DataFrame = pk.list_types_data_to_pd(pokemon_types)\n",
    "types_df.head()"
   ]
  },
  {
   "cell_type": "markdown",
   "id": "4327f19d-60bf-49de-8854-3547c84b6e4c",
   "metadata": {},
   "source": [
    "### 2. Load Data to Repository"
   ]
  },
  {
   "cell_type": "markdown",
   "id": "e3b953f4-14e0-45f4-93cc-f7ee6e682df0",
   "metadata": {},
   "source": [
    "Can load the Pokémon data in a csv and parquet file"
   ]
  },
  {
   "cell_type": "code",
   "execution_count": null,
   "id": "947249f9-cfed-4b18-9554-f421762ff3ed",
   "metadata": {},
   "outputs": [],
   "source": [
    "pk.data_pd_to_csv(pokemon_df)\n",
    "pk.data_pd_to_parquet(pokemon_df)"
   ]
  },
  {
   "cell_type": "markdown",
   "id": "bccc8892-8919-454e-afa5-40b227e9e095",
   "metadata": {},
   "source": [
    "However, for more functionality, I will export both DataFrames into a MySQL Database. The following Database and tables are created using mysql.connector. As a Pokémon can have more than one type, the Database is in 2nd normal form to remove duplicate data rows and ensure the data dependencies.       \n",
    "![Pokémon Database erd](PokemonDB_erd.png)"
   ]
  },
  {
   "cell_type": "code",
   "execution_count": 4,
   "id": "c6c8133e-4819-40a6-894d-1adf602b61da",
   "metadata": {},
   "outputs": [],
   "source": [
    "pk.create_db()\n",
    "pk.create_db_tables()"
   ]
  },
  {
   "cell_type": "markdown",
   "id": "8b420b9d-b54c-4867-921e-eb721829213f",
   "metadata": {},
   "source": [
    "Can now populate the database with mysql.connector, sqlalchemy and pandas, making sure to insert the table data in the right order.    \n",
    "This will only work if all the tables are empty, otherwise the data insertion will fail\n"
   ]
  },
  {
   "cell_type": "code",
   "execution_count": 5,
   "id": "7531445f-fd3d-4fcd-b2b7-6ab9459df9ef",
   "metadata": {},
   "outputs": [],
   "source": [
    "#if the tables are not empty\n",
    "#pk.reset_db_table(\"all\")\n",
    "\n",
    "#insert pokemon data\n",
    "pk.insert_pokemon_data_to_db(pokemon_df)\n",
    "\n",
    "#insert type data\n",
    "pk.insert_types_data_to_db(types_df)\n",
    "\n",
    "# insert many to many table data\n",
    "pk.insert_many_many_data_to_db(pokemon_df,types_df)"
   ]
  },
  {
   "cell_type": "markdown",
   "id": "92d613da-b011-49d1-b526-855e789036bd",
   "metadata": {},
   "source": [
    "## Data Analysis"
   ]
  },
  {
   "cell_type": "markdown",
   "id": "5d0ec2e3-9386-43a0-bce3-7dadbbd6b4d0",
   "metadata": {},
   "source": [
    "Now"
   ]
  },
  {
   "cell_type": "markdown",
   "id": "2a004d46-70ce-470b-866d-3650647ed548",
   "metadata": {},
   "source": [
    "### Data from sql to python (WIP)"
   ]
  },
  {
   "cell_type": "markdown",
   "id": "6f3b5f35-4fec-4b37-ab8f-30aea7a4ab8c",
   "metadata": {},
   "source": [
    "With the data in the database, I can now query the data using sqlalchemy and pandas"
   ]
  },
  {
   "cell_type": "code",
   "execution_count": 3,
   "id": "e83b3cf1-a0ef-4c76-b14b-c426af9ed953",
   "metadata": {},
   "outputs": [],
   "source": [
    "engine = create_engine(pk.SQL_ALCHEMY_CON_STRING)"
   ]
  },
  {
   "cell_type": "markdown",
   "id": "51941801-c8cc-4f09-b3c5-9ef36db0b5d9",
   "metadata": {},
   "source": [
    " -------   query the whole database"
   ]
  },
  {
   "cell_type": "code",
   "execution_count": 9,
   "id": "cd441fcc-e448-40f0-a757-dd3bd7cd3b1c",
   "metadata": {},
   "outputs": [],
   "source": [
    "whole_db_str: str = \\\n",
    "\"\"\"\n",
    "    SELECT *\n",
    "    FROM pokemon p\n",
    "    inner Join pokemontypes pt\n",
    "    on p.pokemonId = pt.pokemonId\n",
    "    join types t\n",
    "    on t.typeId = pt.typeId\n",
    "    order by p.pokemonId;\n",
    "\"\"\""
   ]
  },
  {
   "cell_type": "code",
   "execution_count": 13,
   "id": "07efbbd0-efd0-4136-9a52-4de03d121ab6",
   "metadata": {},
   "outputs": [
    {
     "data": {
      "text/html": [
       "<div>\n",
       "<style scoped>\n",
       "    .dataframe tbody tr th:only-of-type {\n",
       "        vertical-align: middle;\n",
       "    }\n",
       "\n",
       "    .dataframe tbody tr th {\n",
       "        vertical-align: top;\n",
       "    }\n",
       "\n",
       "    .dataframe thead th {\n",
       "        text-align: right;\n",
       "    }\n",
       "</style>\n",
       "<table border=\"1\" class=\"dataframe\">\n",
       "  <thead>\n",
       "    <tr style=\"text-align: right;\">\n",
       "      <th></th>\n",
       "      <th>pokemonId</th>\n",
       "      <th>name</th>\n",
       "      <th>height</th>\n",
       "      <th>weight</th>\n",
       "      <th>hp</th>\n",
       "      <th>attack</th>\n",
       "      <th>defense</th>\n",
       "      <th>special_attack</th>\n",
       "      <th>special_defense</th>\n",
       "      <th>speed</th>\n",
       "      <th>pokemonId</th>\n",
       "      <th>typeId</th>\n",
       "      <th>typeId</th>\n",
       "      <th>pokemonType</th>\n",
       "    </tr>\n",
       "  </thead>\n",
       "  <tbody>\n",
       "    <tr>\n",
       "      <th>0</th>\n",
       "      <td>1</td>\n",
       "      <td>bulbasaur</td>\n",
       "      <td>7.0</td>\n",
       "      <td>69.0</td>\n",
       "      <td>45</td>\n",
       "      <td>49</td>\n",
       "      <td>49</td>\n",
       "      <td>65</td>\n",
       "      <td>65</td>\n",
       "      <td>45</td>\n",
       "      <td>1</td>\n",
       "      <td>3</td>\n",
       "      <td>3</td>\n",
       "      <td>poison</td>\n",
       "    </tr>\n",
       "    <tr>\n",
       "      <th>1</th>\n",
       "      <td>1</td>\n",
       "      <td>bulbasaur</td>\n",
       "      <td>7.0</td>\n",
       "      <td>69.0</td>\n",
       "      <td>45</td>\n",
       "      <td>49</td>\n",
       "      <td>49</td>\n",
       "      <td>65</td>\n",
       "      <td>65</td>\n",
       "      <td>45</td>\n",
       "      <td>1</td>\n",
       "      <td>11</td>\n",
       "      <td>11</td>\n",
       "      <td>grass</td>\n",
       "    </tr>\n",
       "    <tr>\n",
       "      <th>2</th>\n",
       "      <td>2</td>\n",
       "      <td>ivysaur</td>\n",
       "      <td>10.0</td>\n",
       "      <td>130.0</td>\n",
       "      <td>60</td>\n",
       "      <td>62</td>\n",
       "      <td>63</td>\n",
       "      <td>80</td>\n",
       "      <td>80</td>\n",
       "      <td>60</td>\n",
       "      <td>2</td>\n",
       "      <td>3</td>\n",
       "      <td>3</td>\n",
       "      <td>poison</td>\n",
       "    </tr>\n",
       "    <tr>\n",
       "      <th>3</th>\n",
       "      <td>2</td>\n",
       "      <td>ivysaur</td>\n",
       "      <td>10.0</td>\n",
       "      <td>130.0</td>\n",
       "      <td>60</td>\n",
       "      <td>62</td>\n",
       "      <td>63</td>\n",
       "      <td>80</td>\n",
       "      <td>80</td>\n",
       "      <td>60</td>\n",
       "      <td>2</td>\n",
       "      <td>11</td>\n",
       "      <td>11</td>\n",
       "      <td>grass</td>\n",
       "    </tr>\n",
       "    <tr>\n",
       "      <th>4</th>\n",
       "      <td>3</td>\n",
       "      <td>venusaur</td>\n",
       "      <td>20.0</td>\n",
       "      <td>1000.0</td>\n",
       "      <td>80</td>\n",
       "      <td>82</td>\n",
       "      <td>83</td>\n",
       "      <td>100</td>\n",
       "      <td>100</td>\n",
       "      <td>80</td>\n",
       "      <td>3</td>\n",
       "      <td>3</td>\n",
       "      <td>3</td>\n",
       "      <td>poison</td>\n",
       "    </tr>\n",
       "  </tbody>\n",
       "</table>\n",
       "</div>"
      ],
      "text/plain": [
       "   pokemonId       name  height  weight  hp  attack  defense  special_attack  \\\n",
       "0          1  bulbasaur     7.0    69.0  45      49       49              65   \n",
       "1          1  bulbasaur     7.0    69.0  45      49       49              65   \n",
       "2          2    ivysaur    10.0   130.0  60      62       63              80   \n",
       "3          2    ivysaur    10.0   130.0  60      62       63              80   \n",
       "4          3   venusaur    20.0  1000.0  80      82       83             100   \n",
       "\n",
       "   special_defense  speed  pokemonId  typeId  typeId pokemonType  \n",
       "0               65     45          1       3       3      poison  \n",
       "1               65     45          1      11      11       grass  \n",
       "2               80     60          2       3       3      poison  \n",
       "3               80     60          2      11      11       grass  \n",
       "4              100     80          3       3       3      poison  "
      ]
     },
     "execution_count": 13,
     "metadata": {},
     "output_type": "execute_result"
    }
   ],
   "source": [
    "df_whole_db =pd.read_sql(whole_db_str, engine)\n",
    "df_whole_db.head()"
   ]
  },
  {
   "cell_type": "code",
   "execution_count": 18,
   "id": "db013499-9a54-4657-af81-1efd9cd7d516",
   "metadata": {},
   "outputs": [
    {
     "data": {
      "text/plain": [
       "<BarContainer object of 38 artists>"
      ]
     },
     "execution_count": 18,
     "metadata": {},
     "output_type": "execute_result"
    },
    {
     "data": {
      "image/png": "[encoded data removed]",
      "text/plain": [
       "<Figure size 640x480 with 1 Axes>"
      ]
     },
     "metadata": {},
     "output_type": "display_data"
    }
   ],
   "source": [
    "plt.bar(df_whole_db[\"hp\"],df_whole_db[\"speed\"])"
   ]
  },
  {
   "cell_type": "markdown",
   "id": "023eba0a-dd35-4fd1-84a0-10ce5a069d63",
   "metadata": {},
   "source": [
    "get data from sql in each query or just use pandas"
   ]
  },
  {
   "cell_type": "code",
   "execution_count": null,
   "id": "bbcea743-aff0-43be-8f5a-589138bddb1b",
   "metadata": {},
   "outputs": [],
   "source": []
  },
  {
   "cell_type": "code",
   "execution_count": null,
   "id": "7ef1fa90-d7b7-48f0-81f3-6012396b66cf",
   "metadata": {},
   "outputs": [],
   "source": []
  },
  {
   "cell_type": "markdown",
   "id": "2fe0932e-726d-40b3-beb1-d213cac7d813",
   "metadata": {},
   "source": [
    "for each question:  \n",
    "type   \n",
    "height/weight    \n",
    "stats"
   ]
  },
  {
   "cell_type": "code",
   "execution_count": null,
   "id": "484c438d-e5ed-4488-a2ca-bc3b2e084b56",
   "metadata": {},
   "outputs": [],
   "source": []
  },
  {
   "cell_type": "code",
   "execution_count": null,
   "id": "93ae0101-33f0-4d63-b353-fc0fea04feb1",
   "metadata": {},
   "outputs": [],
   "source": []
  },
  {
   "cell_type": "code",
   "execution_count": null,
   "id": "41267980-977a-4751-9f51-4192172f9639",
   "metadata": {},
   "outputs": [],
   "source": []
  },
  {
   "cell_type": "code",
   "execution_count": null,
   "id": "f0d28616-bb83-4c17-912e-d81f4a8bf88a",
   "metadata": {},
   "outputs": [],
   "source": []
  },
  {
   "cell_type": "markdown",
   "id": "b222f318-9b06-4293-866c-4ca38033c346",
   "metadata": {},
   "source": [
    "### pokemon Types"
   ]
  },
  {
   "cell_type": "markdown",
   "id": "ae31d75b-60b9-499d-a246-02006e91fcf4",
   "metadata": {},
   "source": [
    "How are the types disturbed"
   ]
  },
  {
   "cell_type": "code",
   "execution_count": 8,
   "id": "11b94d40-0b6a-4164-8649-c91ca5e6d402",
   "metadata": {},
   "outputs": [],
   "source": [
    "# The numebr of pokemon per type\n",
    "\n",
    "number_of_pokemone_per_type: str = \\\n",
    "\"\"\"\n",
    "    SELECT t.pokemonType type, count(distinct p.pokemonId) amount\n",
    "    FROM pokemon p\n",
    "    inner Join pokemontypes pt\n",
    "    on p.pokemonId = pt.pokemonId\n",
    "    join types t\n",
    "    on t.typeId = pt.typeId\n",
    "    group by t.pokemonType\n",
    "    order by amount desc;\n",
    "\"\"\""
   ]
  },
  {
   "cell_type": "code",
   "execution_count": 9,
   "id": "74cab5be-7e00-41e1-bad9-a054a7f53288",
   "metadata": {},
   "outputs": [
    {
     "data": {
      "text/html": [
       "<div>\n",
       "<style scoped>\n",
       "    .dataframe tbody tr th:only-of-type {\n",
       "        vertical-align: middle;\n",
       "    }\n",
       "\n",
       "    .dataframe tbody tr th {\n",
       "        vertical-align: top;\n",
       "    }\n",
       "\n",
       "    .dataframe thead th {\n",
       "        text-align: right;\n",
       "    }\n",
       "</style>\n",
       "<table border=\"1\" class=\"dataframe\">\n",
       "  <thead>\n",
       "    <tr style=\"text-align: right;\">\n",
       "      <th></th>\n",
       "      <th>type</th>\n",
       "      <th>amount</th>\n",
       "    </tr>\n",
       "  </thead>\n",
       "  <tbody>\n",
       "    <tr>\n",
       "      <th>0</th>\n",
       "      <td>poison</td>\n",
       "      <td>8</td>\n",
       "    </tr>\n",
       "    <tr>\n",
       "      <th>1</th>\n",
       "      <td>flying</td>\n",
       "      <td>7</td>\n",
       "    </tr>\n",
       "    <tr>\n",
       "      <th>2</th>\n",
       "      <td>normal</td>\n",
       "      <td>7</td>\n",
       "    </tr>\n",
       "    <tr>\n",
       "      <th>3</th>\n",
       "      <td>bug</td>\n",
       "      <td>6</td>\n",
       "    </tr>\n",
       "    <tr>\n",
       "      <th>4</th>\n",
       "      <td>fire</td>\n",
       "      <td>3</td>\n",
       "    </tr>\n",
       "  </tbody>\n",
       "</table>\n",
       "</div>"
      ],
      "text/plain": [
       "     type  amount\n",
       "0  poison       8\n",
       "1  flying       7\n",
       "2  normal       7\n",
       "3     bug       6\n",
       "4    fire       3"
      ]
     },
     "execution_count": 9,
     "metadata": {},
     "output_type": "execute_result"
    }
   ],
   "source": [
    "df_pokemon_per_type =pd.read_sql(number_of_pokemone_per_type, engine)\n",
    "df_pokemon_per_type.head()"
   ]
  },
  {
   "cell_type": "code",
   "execution_count": null,
   "id": "7827390b-ac9c-4d65-a133-fd97c277f884",
   "metadata": {},
   "outputs": [],
   "source": []
  },
  {
   "cell_type": "markdown",
   "id": "9076ded7-5c2f-464d-931b-1bdca3d19b07",
   "metadata": {},
   "source": [
    "Popular pokemon type pairing apart from single typeing"
   ]
  },
  {
   "cell_type": "code",
   "execution_count": 10,
   "id": "58ac9a29-058f-4232-90aa-0abaaadc15bb",
   "metadata": {},
   "outputs": [],
   "source": [
    "type_pairing_str: str = \\\n",
    "\"\"\"\n",
    "    SELECT  t1.pokemonType type1, t2.pokemonType type2, count(p1.typeId) amount\n",
    "    from pokemontypes p1\n",
    "    join pokemontypes p2\n",
    "    on p1.pokemonId = p2.pokemonId and p1.typeId > p2.typeId\n",
    "    join types t1\n",
    "    on t1.typeId = p1.typeId\n",
    "    join types t2\n",
    "    on t2.typeId = p2.typeId\n",
    "    group by p1.typeId, p2.typeId\n",
    "    order by amount desc;\n",
    "\"\"\""
   ]
  },
  {
   "cell_type": "code",
   "execution_count": 11,
   "id": "811ec7ad-6903-468e-8251-858b029c7434",
   "metadata": {},
   "outputs": [
    {
     "data": {
      "text/html": [
       "<div>\n",
       "<style scoped>\n",
       "    .dataframe tbody tr th:only-of-type {\n",
       "        vertical-align: middle;\n",
       "    }\n",
       "\n",
       "    .dataframe tbody tr th {\n",
       "        vertical-align: top;\n",
       "    }\n",
       "\n",
       "    .dataframe thead th {\n",
       "        text-align: right;\n",
       "    }\n",
       "</style>\n",
       "<table border=\"1\" class=\"dataframe\">\n",
       "  <thead>\n",
       "    <tr style=\"text-align: right;\">\n",
       "      <th></th>\n",
       "      <th>type1</th>\n",
       "      <th>type2</th>\n",
       "      <th>amount</th>\n",
       "    </tr>\n",
       "  </thead>\n",
       "  <tbody>\n",
       "    <tr>\n",
       "      <th>0</th>\n",
       "      <td>flying</td>\n",
       "      <td>normal</td>\n",
       "      <td>5</td>\n",
       "    </tr>\n",
       "    <tr>\n",
       "      <th>1</th>\n",
       "      <td>bug</td>\n",
       "      <td>poison</td>\n",
       "      <td>3</td>\n",
       "    </tr>\n",
       "    <tr>\n",
       "      <th>2</th>\n",
       "      <td>grass</td>\n",
       "      <td>poison</td>\n",
       "      <td>3</td>\n",
       "    </tr>\n",
       "    <tr>\n",
       "      <th>3</th>\n",
       "      <td>bug</td>\n",
       "      <td>flying</td>\n",
       "      <td>1</td>\n",
       "    </tr>\n",
       "    <tr>\n",
       "      <th>4</th>\n",
       "      <td>fire</td>\n",
       "      <td>flying</td>\n",
       "      <td>1</td>\n",
       "    </tr>\n",
       "  </tbody>\n",
       "</table>\n",
       "</div>"
      ],
      "text/plain": [
       "    type1   type2  amount\n",
       "0  flying  normal       5\n",
       "1     bug  poison       3\n",
       "2   grass  poison       3\n",
       "3     bug  flying       1\n",
       "4    fire  flying       1"
      ]
     },
     "execution_count": 11,
     "metadata": {},
     "output_type": "execute_result"
    }
   ],
   "source": [
    "df_type_pairing = pd.read_sql(type_pairing_str, engine)\n",
    "df_type_pairing.head()"
   ]
  },
  {
   "cell_type": "code",
   "execution_count": null,
   "id": "52406063-f5e6-4443-ae91-d32970d2b49e",
   "metadata": {},
   "outputs": [],
   "source": []
  },
  {
   "cell_type": "code",
   "execution_count": null,
   "id": "dbaedda5-c1c0-4f49-bef5-faa3908b4f19",
   "metadata": {},
   "outputs": [],
   "source": []
  },
  {
   "cell_type": "code",
   "execution_count": null,
   "id": "0f819f30-c8f6-4478-8e97-1455d52c4987",
   "metadata": {},
   "outputs": [],
   "source": []
  },
  {
   "cell_type": "markdown",
   "id": "48e1dee4-2ad0-4787-a401-9952fd2700bf",
   "metadata": {},
   "source": [
    "### Height and Weight"
   ]
  },
  {
   "cell_type": "code",
   "execution_count": null,
   "id": "c28f5c96-8acb-4c3b-914b-d5bd89ba38d3",
   "metadata": {},
   "outputs": [],
   "source": []
  },
  {
   "cell_type": "markdown",
   "id": "35f9dd7d-b009-4006-bdc2-6a766b790837",
   "metadata": {},
   "source": [
    "Height and weight of all pokemon"
   ]
  },
  {
   "cell_type": "code",
   "execution_count": 12,
   "id": "0667f70b-94da-494d-853f-9fe6ee763cca",
   "metadata": {},
   "outputs": [],
   "source": [
    "height_weight_all_pokemon_str: str = \\\n",
    "\"\"\"\n",
    "    Select height, weight \n",
    "    from pokemon;\n",
    "\"\"\""
   ]
  },
  {
   "cell_type": "code",
   "execution_count": 13,
   "id": "ac3ea3fc-6e7a-4944-b2ca-8464c1d357e0",
   "metadata": {},
   "outputs": [
    {
     "data": {
      "text/html": [
       "<div>\n",
       "<style scoped>\n",
       "    .dataframe tbody tr th:only-of-type {\n",
       "        vertical-align: middle;\n",
       "    }\n",
       "\n",
       "    .dataframe tbody tr th {\n",
       "        vertical-align: top;\n",
       "    }\n",
       "\n",
       "    .dataframe thead th {\n",
       "        text-align: right;\n",
       "    }\n",
       "</style>\n",
       "<table border=\"1\" class=\"dataframe\">\n",
       "  <thead>\n",
       "    <tr style=\"text-align: right;\">\n",
       "      <th></th>\n",
       "      <th>height</th>\n",
       "      <th>weight</th>\n",
       "    </tr>\n",
       "  </thead>\n",
       "  <tbody>\n",
       "    <tr>\n",
       "      <th>0</th>\n",
       "      <td>7.0</td>\n",
       "      <td>69.0</td>\n",
       "    </tr>\n",
       "    <tr>\n",
       "      <th>1</th>\n",
       "      <td>10.0</td>\n",
       "      <td>130.0</td>\n",
       "    </tr>\n",
       "    <tr>\n",
       "      <th>2</th>\n",
       "      <td>20.0</td>\n",
       "      <td>1000.0</td>\n",
       "    </tr>\n",
       "    <tr>\n",
       "      <th>3</th>\n",
       "      <td>6.0</td>\n",
       "      <td>85.0</td>\n",
       "    </tr>\n",
       "    <tr>\n",
       "      <th>4</th>\n",
       "      <td>11.0</td>\n",
       "      <td>190.0</td>\n",
       "    </tr>\n",
       "  </tbody>\n",
       "</table>\n",
       "</div>"
      ],
      "text/plain": [
       "   height  weight\n",
       "0     7.0    69.0\n",
       "1    10.0   130.0\n",
       "2    20.0  1000.0\n",
       "3     6.0    85.0\n",
       "4    11.0   190.0"
      ]
     },
     "execution_count": 13,
     "metadata": {},
     "output_type": "execute_result"
    }
   ],
   "source": [
    "df_height_weight_all = pd.read_sql(height_weight_all_pokemon_str, engine)\n",
    "df_height_weight_all.head()"
   ]
  },
  {
   "cell_type": "code",
   "execution_count": null,
   "id": "15020fe7-536c-4e5e-9d01-55d37d03551b",
   "metadata": {},
   "outputs": [],
   "source": []
  },
  {
   "cell_type": "code",
   "execution_count": null,
   "id": "0df1b2d0-168a-4973-a8e5-f922328fb6b3",
   "metadata": {},
   "outputs": [],
   "source": []
  },
  {
   "cell_type": "markdown",
   "id": "53e5336b-cd58-48ba-a566-50ed62896ae2",
   "metadata": {},
   "source": [
    "mean and std of the height and weight for each type"
   ]
  },
  {
   "cell_type": "code",
   "execution_count": 14,
   "id": "56f7ae6b-0cf9-421e-9c6f-84fcf825b4d0",
   "metadata": {},
   "outputs": [],
   "source": [
    "mean_height_weight_per_type_str: str = \\\n",
    "\"\"\"\n",
    "    with cte as(\n",
    "    \tSELECT t.pokemonType, pt.pokemonId\n",
    "    \tFROM types t\n",
    "    \tjoin pokemontypes pt\n",
    "    \ton t.typeId = pt.typeId\n",
    "        )\n",
    "        \n",
    "    select \n",
    "        ROUND(avg(p.height),2) mean_height, ROUND(STD(p.height),2) sd_height,\n",
    "        ROUND(avg(p.weight),2) mean_weight, ROUND(STD(p.weight),2) sd_weight,\n",
    "        c.pokemonType\n",
    "    from pokemon p\n",
    "    join cte c\n",
    "    on p.pokemonId = c.pokemonId\n",
    "    group by c.pokemonType\n",
    "    order by mean_height Desc, mean_weight Desc;\n",
    "\"\"\""
   ]
  },
  {
   "cell_type": "code",
   "execution_count": 15,
   "id": "95f650fe-fafa-45eb-b88a-f118331834c8",
   "metadata": {},
   "outputs": [
    {
     "data": {
      "text/html": [
       "<div>\n",
       "<style scoped>\n",
       "    .dataframe tbody tr th:only-of-type {\n",
       "        vertical-align: middle;\n",
       "    }\n",
       "\n",
       "    .dataframe tbody tr th {\n",
       "        vertical-align: top;\n",
       "    }\n",
       "\n",
       "    .dataframe thead th {\n",
       "        text-align: right;\n",
       "    }\n",
       "</style>\n",
       "<table border=\"1\" class=\"dataframe\">\n",
       "  <thead>\n",
       "    <tr style=\"text-align: right;\">\n",
       "      <th></th>\n",
       "      <th>mean_height</th>\n",
       "      <th>sd_height</th>\n",
       "      <th>mean_weight</th>\n",
       "      <th>sd_weight</th>\n",
       "      <th>pokemonType</th>\n",
       "    </tr>\n",
       "  </thead>\n",
       "  <tbody>\n",
       "    <tr>\n",
       "      <th>0</th>\n",
       "      <td>13.88</td>\n",
       "      <td>9.87</td>\n",
       "      <td>293.12</td>\n",
       "      <td>327.79</td>\n",
       "      <td>poison</td>\n",
       "    </tr>\n",
       "    <tr>\n",
       "      <th>1</th>\n",
       "      <td>12.33</td>\n",
       "      <td>5.56</td>\n",
       "      <td>399.67</td>\n",
       "      <td>425.23</td>\n",
       "      <td>grass</td>\n",
       "    </tr>\n",
       "    <tr>\n",
       "      <th>2</th>\n",
       "      <td>11.33</td>\n",
       "      <td>4.50</td>\n",
       "      <td>393.33</td>\n",
       "      <td>364.33</td>\n",
       "      <td>fire</td>\n",
       "    </tr>\n",
       "    <tr>\n",
       "      <th>3</th>\n",
       "      <td>10.33</td>\n",
       "      <td>4.50</td>\n",
       "      <td>390.00</td>\n",
       "      <td>333.39</td>\n",
       "      <td>water</td>\n",
       "    </tr>\n",
       "    <tr>\n",
       "      <th>4</th>\n",
       "      <td>10.29</td>\n",
       "      <td>5.03</td>\n",
       "      <td>334.00</td>\n",
       "      <td>275.60</td>\n",
       "      <td>flying</td>\n",
       "    </tr>\n",
       "  </tbody>\n",
       "</table>\n",
       "</div>"
      ],
      "text/plain": [
       "   mean_height  sd_height  mean_weight  sd_weight pokemonType\n",
       "0        13.88       9.87       293.12     327.79      poison\n",
       "1        12.33       5.56       399.67     425.23       grass\n",
       "2        11.33       4.50       393.33     364.33        fire\n",
       "3        10.33       4.50       390.00     333.39       water\n",
       "4        10.29       5.03       334.00     275.60      flying"
      ]
     },
     "execution_count": 15,
     "metadata": {},
     "output_type": "execute_result"
    }
   ],
   "source": [
    "df_mean_height_weight_type = pd.read_sql(mean_height_weight_per_type_str, engine)\n",
    "df_mean_height_weight_type.head()"
   ]
  },
  {
   "cell_type": "code",
   "execution_count": null,
   "id": "44408832-090d-4b14-bc84-a8d7daf90cfc",
   "metadata": {},
   "outputs": [],
   "source": []
  },
  {
   "cell_type": "code",
   "execution_count": null,
   "id": "6ff0403c-acf7-416b-bffa-5353b310f045",
   "metadata": {},
   "outputs": [],
   "source": []
  },
  {
   "cell_type": "code",
   "execution_count": null,
   "id": "0bd8a5f8-8b5e-42cb-bdd8-3f1d17f24912",
   "metadata": {},
   "outputs": [],
   "source": []
  },
  {
   "cell_type": "code",
   "execution_count": null,
   "id": "dcc51a60-63ef-4d06-ac19-501cf370eae0",
   "metadata": {},
   "outputs": [],
   "source": []
  },
  {
   "cell_type": "code",
   "execution_count": null,
   "id": "1b78303a-947f-43b6-88b0-42a56a6a96a0",
   "metadata": {},
   "outputs": [],
   "source": []
  },
  {
   "cell_type": "markdown",
   "id": "a0458d9c-c282-4133-bf1d-b7880e9c19e3",
   "metadata": {},
   "source": [
    "do a couple for certain types    \n",
    "ones with largest and smallest sd"
   ]
  },
  {
   "cell_type": "code",
   "execution_count": 19,
   "id": "6fcbb38f-f4ed-4ef1-a4f3-29eb42b45e22",
   "metadata": {},
   "outputs": [],
   "source": [
    "height_weight_fire_sql: str =\\\n",
    "\"\"\"\n",
    "    with cte as(\n",
    "    \tSELECT t.pokemonType, pt.pokemonId\n",
    "    \tFROM types t\n",
    "    \tjoin pokemontypes pt\n",
    "    \ton t.typeId = pt.typeId\n",
    "        )\n",
    "    select p.height , p.weight, c.pokemonType\n",
    "    from pokemon p\n",
    "    join cte c\n",
    "    on p.pokemonId = c.pokemonId\n",
    "    where  c.pokemonType = \"fire\"\n",
    "    order by p.height Desc,  p.weight Desc;\n",
    "\"\"\""
   ]
  },
  {
   "cell_type": "code",
   "execution_count": 20,
   "id": "043121bb-139b-4960-a89f-321ae2054292",
   "metadata": {},
   "outputs": [
    {
     "data": {
      "text/html": [
       "<div>\n",
       "<style scoped>\n",
       "    .dataframe tbody tr th:only-of-type {\n",
       "        vertical-align: middle;\n",
       "    }\n",
       "\n",
       "    .dataframe tbody tr th {\n",
       "        vertical-align: top;\n",
       "    }\n",
       "\n",
       "    .dataframe thead th {\n",
       "        text-align: right;\n",
       "    }\n",
       "</style>\n",
       "<table border=\"1\" class=\"dataframe\">\n",
       "  <thead>\n",
       "    <tr style=\"text-align: right;\">\n",
       "      <th></th>\n",
       "      <th>height</th>\n",
       "      <th>weight</th>\n",
       "      <th>pokemonType</th>\n",
       "    </tr>\n",
       "  </thead>\n",
       "  <tbody>\n",
       "    <tr>\n",
       "      <th>0</th>\n",
       "      <td>17.0</td>\n",
       "      <td>905.0</td>\n",
       "      <td>fire</td>\n",
       "    </tr>\n",
       "    <tr>\n",
       "      <th>1</th>\n",
       "      <td>11.0</td>\n",
       "      <td>190.0</td>\n",
       "      <td>fire</td>\n",
       "    </tr>\n",
       "    <tr>\n",
       "      <th>2</th>\n",
       "      <td>6.0</td>\n",
       "      <td>85.0</td>\n",
       "      <td>fire</td>\n",
       "    </tr>\n",
       "  </tbody>\n",
       "</table>\n",
       "</div>"
      ],
      "text/plain": [
       "   height  weight pokemonType\n",
       "0    17.0   905.0        fire\n",
       "1    11.0   190.0        fire\n",
       "2     6.0    85.0        fire"
      ]
     },
     "execution_count": 20,
     "metadata": {},
     "output_type": "execute_result"
    }
   ],
   "source": [
    "df_height_weight_fire = pd.read_sql(height_weight_fire_sql, engine)\n",
    "df_height_weight_fire.head()"
   ]
  },
  {
   "cell_type": "code",
   "execution_count": null,
   "id": "a1f756e3-996b-477b-b1cc-efd413221536",
   "metadata": {},
   "outputs": [],
   "source": []
  },
  {
   "cell_type": "code",
   "execution_count": null,
   "id": "e7dc05b8-547e-44f0-a925-ce252e23f4f0",
   "metadata": {},
   "outputs": [],
   "source": []
  },
  {
   "cell_type": "code",
   "execution_count": null,
   "id": "c6b42e09-419f-4a5b-8dd1-b32d7c5791a5",
   "metadata": {},
   "outputs": [],
   "source": []
  },
  {
   "cell_type": "code",
   "execution_count": null,
   "id": "0e95ef1e-560b-4c29-a0c9-ba477cb61f93",
   "metadata": {},
   "outputs": [],
   "source": []
  },
  {
   "cell_type": "markdown",
   "id": "828d35e5-13f6-432d-8262-6dbc06a029e3",
   "metadata": {},
   "source": [
    "### Stats"
   ]
  },
  {
   "cell_type": "code",
   "execution_count": null,
   "id": "7423b9c0-7dd4-43ef-8507-45438ffa245a",
   "metadata": {},
   "outputs": [],
   "source": []
  },
  {
   "cell_type": "markdown",
   "id": "768564de-7cbc-4b50-b9fe-bacc09d206c2",
   "metadata": {},
   "source": [
    "Overall Stats of all pokemon"
   ]
  },
  {
   "cell_type": "code",
   "execution_count": 21,
   "id": "1b71386f-c545-4975-8744-696a1034de5e",
   "metadata": {},
   "outputs": [],
   "source": [
    "stats_all_pokemon_str: str = \\\n",
    "\"\"\"\n",
    "    select hp, attack,\n",
    "     defense, special_attack,\n",
    "     special_defense, speed, \n",
    "     (attack+defense) as 'physical_stats',\n",
    "     (special_attack+special_defense) as 'special_stats',\n",
    "     (hp+attack+defense+special_attack+special_defense+speed) as 'overall_stats'\n",
    "    from pokemon;\n",
    "\"\"\""
   ]
  },
  {
   "cell_type": "code",
   "execution_count": 22,
   "id": "e11873a5-384e-47ea-80d0-71aa85ad7455",
   "metadata": {},
   "outputs": [
    {
     "data": {
      "text/html": [
       "<div>\n",
       "<style scoped>\n",
       "    .dataframe tbody tr th:only-of-type {\n",
       "        vertical-align: middle;\n",
       "    }\n",
       "\n",
       "    .dataframe tbody tr th {\n",
       "        vertical-align: top;\n",
       "    }\n",
       "\n",
       "    .dataframe thead th {\n",
       "        text-align: right;\n",
       "    }\n",
       "</style>\n",
       "<table border=\"1\" class=\"dataframe\">\n",
       "  <thead>\n",
       "    <tr style=\"text-align: right;\">\n",
       "      <th></th>\n",
       "      <th>hp</th>\n",
       "      <th>attack</th>\n",
       "      <th>defense</th>\n",
       "      <th>special_attack</th>\n",
       "      <th>special_defense</th>\n",
       "      <th>speed</th>\n",
       "      <th>physical_stats</th>\n",
       "      <th>special_stats</th>\n",
       "      <th>overall_stats</th>\n",
       "    </tr>\n",
       "  </thead>\n",
       "  <tbody>\n",
       "    <tr>\n",
       "      <th>0</th>\n",
       "      <td>45</td>\n",
       "      <td>49</td>\n",
       "      <td>49</td>\n",
       "      <td>65</td>\n",
       "      <td>65</td>\n",
       "      <td>45</td>\n",
       "      <td>98</td>\n",
       "      <td>130</td>\n",
       "      <td>318</td>\n",
       "    </tr>\n",
       "    <tr>\n",
       "      <th>1</th>\n",
       "      <td>60</td>\n",
       "      <td>62</td>\n",
       "      <td>63</td>\n",
       "      <td>80</td>\n",
       "      <td>80</td>\n",
       "      <td>60</td>\n",
       "      <td>125</td>\n",
       "      <td>160</td>\n",
       "      <td>405</td>\n",
       "    </tr>\n",
       "    <tr>\n",
       "      <th>2</th>\n",
       "      <td>80</td>\n",
       "      <td>82</td>\n",
       "      <td>83</td>\n",
       "      <td>100</td>\n",
       "      <td>100</td>\n",
       "      <td>80</td>\n",
       "      <td>165</td>\n",
       "      <td>200</td>\n",
       "      <td>525</td>\n",
       "    </tr>\n",
       "    <tr>\n",
       "      <th>3</th>\n",
       "      <td>39</td>\n",
       "      <td>52</td>\n",
       "      <td>43</td>\n",
       "      <td>60</td>\n",
       "      <td>50</td>\n",
       "      <td>65</td>\n",
       "      <td>95</td>\n",
       "      <td>110</td>\n",
       "      <td>309</td>\n",
       "    </tr>\n",
       "    <tr>\n",
       "      <th>4</th>\n",
       "      <td>58</td>\n",
       "      <td>64</td>\n",
       "      <td>58</td>\n",
       "      <td>80</td>\n",
       "      <td>65</td>\n",
       "      <td>80</td>\n",
       "      <td>122</td>\n",
       "      <td>145</td>\n",
       "      <td>405</td>\n",
       "    </tr>\n",
       "  </tbody>\n",
       "</table>\n",
       "</div>"
      ],
      "text/plain": [
       "   hp  attack  defense  special_attack  special_defense  speed  \\\n",
       "0  45      49       49              65               65     45   \n",
       "1  60      62       63              80               80     60   \n",
       "2  80      82       83             100              100     80   \n",
       "3  39      52       43              60               50     65   \n",
       "4  58      64       58              80               65     80   \n",
       "\n",
       "   physical_stats  special_stats  overall_stats  \n",
       "0              98            130            318  \n",
       "1             125            160            405  \n",
       "2             165            200            525  \n",
       "3              95            110            309  \n",
       "4             122            145            405  "
      ]
     },
     "execution_count": 22,
     "metadata": {},
     "output_type": "execute_result"
    }
   ],
   "source": [
    "df_stats_all_pokemon = pd.read_sql(stats_all_pokemon_str, engine)\n",
    "df_stats_all_pokemon.head()"
   ]
  },
  {
   "cell_type": "code",
   "execution_count": null,
   "id": "fcc4770a-4eb7-4c6f-aa5f-9a990195f0c6",
   "metadata": {},
   "outputs": [],
   "source": []
  },
  {
   "cell_type": "code",
   "execution_count": null,
   "id": "1672b77f-cb09-4ff7-8693-3d75892e27c8",
   "metadata": {},
   "outputs": [],
   "source": []
  },
  {
   "cell_type": "code",
   "execution_count": null,
   "id": "2542e8f7-5984-43ef-8c63-142ea8dfe438",
   "metadata": {},
   "outputs": [],
   "source": []
  },
  {
   "cell_type": "markdown",
   "id": "68ec0445-b871-4161-ad5a-ac2c64fd94ad",
   "metadata": {},
   "source": [
    "Mean and std of stats for each pokemon type"
   ]
  },
  {
   "cell_type": "code",
   "execution_count": 23,
   "id": "3c66423e-d0a9-4fe3-bd33-b74e1923364d",
   "metadata": {},
   "outputs": [],
   "source": [
    "mean_stats_per_type_str: str = \\\n",
    "\"\"\"\n",
    "    WITH cte AS(\n",
    "    \tSELECT pt.pokemonId, t.pokemonType\n",
    "        from types t \n",
    "        join pokemontypes pt\n",
    "        on pt.typeId = t.typeId\n",
    "    ),\n",
    "    cte2 as(\n",
    "        select pokemonId,\n",
    "             (attack+defense) as 'physical_stats',\n",
    "             (special_attack+special_defense) as 'special_stats',\n",
    "             (hp+attack+defense+special_attack+special_defense+speed) as 'overall_stats'\n",
    "        from pokemon)\n",
    "    SELECT \n",
    "        c.pokemonType,\n",
    "        ROUND(avg(p.hp),2) mean_hp, ROUND(STD(p.hp),2) sd_hp,\n",
    "        ROUND(avg(p.attack),2) mean_attack, ROUND(STD(p.attack),2) sd_attack,\n",
    "        ROUND(avg(p.defense),2) mean_defense, ROUND(STD(p.defense),2) sd_defense,\n",
    "        ROUND(avg(p.special_attack),2) mean_special_attack, ROUND(STD(p.special_attack),2) sd_special_attack,\n",
    "        ROUND(avg(p.special_defense),2) mean_special_defense, ROUND(STD(p.special_defense),2) sd_special_defense,\n",
    "        ROUND(avg(p.speed),2) mean_speed, ROUND(STD(p.speed),2) sd_speed,\n",
    "        ROUND(avg(c2.physical_stats),2) mean_physical_stats, ROUND(STD(c2.physical_stats),2) sd_physical_stats,\n",
    "        ROUND(avg(c2.special_stats),2) mean_special_stats, ROUND(STD(c2.special_stats),2) sd_special_stats,\n",
    "        ROUND(avg(c2.overall_stats),2) mean_overall_stats, ROUND(STD(c2.overall_stats),2) sd_overall_stats\n",
    "    from pokemon p\n",
    "    join cte c\n",
    "        on c.pokemonId = p.pokemonId\n",
    "    join cte2 c2\n",
    "        on c2.pokemonId = p.pokemonId\n",
    "    group by c.pokemonType\n",
    "    order by mean_hp Desc;\n",
    "    \"\"\""
   ]
  },
  {
   "cell_type": "code",
   "execution_count": 24,
   "id": "4a15a58d-be17-4e99-bd97-b55db6698677",
   "metadata": {},
   "outputs": [
    {
     "data": {
      "text/html": [
       "<div>\n",
       "<style scoped>\n",
       "    .dataframe tbody tr th:only-of-type {\n",
       "        vertical-align: middle;\n",
       "    }\n",
       "\n",
       "    .dataframe tbody tr th {\n",
       "        vertical-align: top;\n",
       "    }\n",
       "\n",
       "    .dataframe thead th {\n",
       "        text-align: right;\n",
       "    }\n",
       "</style>\n",
       "<table border=\"1\" class=\"dataframe\">\n",
       "  <thead>\n",
       "    <tr style=\"text-align: right;\">\n",
       "      <th></th>\n",
       "      <th>pokemonType</th>\n",
       "      <th>mean_hp</th>\n",
       "      <th>sd_hp</th>\n",
       "      <th>mean_attack</th>\n",
       "      <th>sd_attack</th>\n",
       "      <th>mean_defense</th>\n",
       "      <th>sd_defense</th>\n",
       "      <th>mean_special_attack</th>\n",
       "      <th>sd_special_attack</th>\n",
       "      <th>mean_special_defense</th>\n",
       "      <th>sd_special_defense</th>\n",
       "      <th>mean_speed</th>\n",
       "      <th>sd_speed</th>\n",
       "      <th>mean_physical_stats</th>\n",
       "      <th>sd_physical_stats</th>\n",
       "      <th>mean_special_stats</th>\n",
       "      <th>sd_special_stats</th>\n",
       "      <th>mean_overall_stats</th>\n",
       "      <th>sd_overall_stats</th>\n",
       "    </tr>\n",
       "  </thead>\n",
       "  <tbody>\n",
       "    <tr>\n",
       "      <th>0</th>\n",
       "      <td>grass</td>\n",
       "      <td>61.67</td>\n",
       "      <td>14.34</td>\n",
       "      <td>64.33</td>\n",
       "      <td>13.57</td>\n",
       "      <td>65.00</td>\n",
       "      <td>13.95</td>\n",
       "      <td>81.67</td>\n",
       "      <td>14.34</td>\n",
       "      <td>81.67</td>\n",
       "      <td>14.34</td>\n",
       "      <td>61.67</td>\n",
       "      <td>14.34</td>\n",
       "      <td>129.33</td>\n",
       "      <td>27.52</td>\n",
       "      <td>163.33</td>\n",
       "      <td>28.67</td>\n",
       "      <td>416.00</td>\n",
       "      <td>84.86</td>\n",
       "    </tr>\n",
       "    <tr>\n",
       "      <th>1</th>\n",
       "      <td>flying</td>\n",
       "      <td>61.29</td>\n",
       "      <td>15.47</td>\n",
       "      <td>66.29</td>\n",
       "      <td>17.11</td>\n",
       "      <td>56.14</td>\n",
       "      <td>16.45</td>\n",
       "      <td>63.71</td>\n",
       "      <td>26.38</td>\n",
       "      <td>58.86</td>\n",
       "      <td>19.58</td>\n",
       "      <td>81.14</td>\n",
       "      <td>17.27</td>\n",
       "      <td>122.43</td>\n",
       "      <td>31.50</td>\n",
       "      <td>122.57</td>\n",
       "      <td>45.67</td>\n",
       "      <td>387.43</td>\n",
       "      <td>99.09</td>\n",
       "    </tr>\n",
       "    <tr>\n",
       "      <th>2</th>\n",
       "      <td>water</td>\n",
       "      <td>60.67</td>\n",
       "      <td>14.34</td>\n",
       "      <td>64.67</td>\n",
       "      <td>14.34</td>\n",
       "      <td>81.67</td>\n",
       "      <td>14.34</td>\n",
       "      <td>66.67</td>\n",
       "      <td>14.34</td>\n",
       "      <td>83.00</td>\n",
       "      <td>16.87</td>\n",
       "      <td>59.67</td>\n",
       "      <td>14.34</td>\n",
       "      <td>146.33</td>\n",
       "      <td>28.67</td>\n",
       "      <td>149.67</td>\n",
       "      <td>31.20</td>\n",
       "      <td>416.33</td>\n",
       "      <td>88.55</td>\n",
       "    </tr>\n",
       "    <tr>\n",
       "      <th>3</th>\n",
       "      <td>fire</td>\n",
       "      <td>58.33</td>\n",
       "      <td>15.92</td>\n",
       "      <td>66.67</td>\n",
       "      <td>13.20</td>\n",
       "      <td>59.67</td>\n",
       "      <td>14.34</td>\n",
       "      <td>83.00</td>\n",
       "      <td>20.12</td>\n",
       "      <td>66.67</td>\n",
       "      <td>14.34</td>\n",
       "      <td>81.67</td>\n",
       "      <td>14.34</td>\n",
       "      <td>126.33</td>\n",
       "      <td>27.52</td>\n",
       "      <td>149.67</td>\n",
       "      <td>34.45</td>\n",
       "      <td>416.00</td>\n",
       "      <td>92.18</td>\n",
       "    </tr>\n",
       "    <tr>\n",
       "      <th>4</th>\n",
       "      <td>poison</td>\n",
       "      <td>53.75</td>\n",
       "      <td>14.09</td>\n",
       "      <td>62.25</td>\n",
       "      <td>23.83</td>\n",
       "      <td>53.50</td>\n",
       "      <td>16.04</td>\n",
       "      <td>55.00</td>\n",
       "      <td>25.74</td>\n",
       "      <td>62.88</td>\n",
       "      <td>26.41</td>\n",
       "      <td>60.00</td>\n",
       "      <td>15.81</td>\n",
       "      <td>115.75</td>\n",
       "      <td>34.88</td>\n",
       "      <td>117.88</td>\n",
       "      <td>50.79</td>\n",
       "      <td>347.38</td>\n",
       "      <td>109.05</td>\n",
       "    </tr>\n",
       "  </tbody>\n",
       "</table>\n",
       "</div>"
      ],
      "text/plain": [
       "  pokemonType  mean_hp  sd_hp  mean_attack  sd_attack  mean_defense  \\\n",
       "0       grass    61.67  14.34        64.33      13.57         65.00   \n",
       "1      flying    61.29  15.47        66.29      17.11         56.14   \n",
       "2       water    60.67  14.34        64.67      14.34         81.67   \n",
       "3        fire    58.33  15.92        66.67      13.20         59.67   \n",
       "4      poison    53.75  14.09        62.25      23.83         53.50   \n",
       "\n",
       "   sd_defense  mean_special_attack  sd_special_attack  mean_special_defense  \\\n",
       "0       13.95                81.67              14.34                 81.67   \n",
       "1       16.45                63.71              26.38                 58.86   \n",
       "2       14.34                66.67              14.34                 83.00   \n",
       "3       14.34                83.00              20.12                 66.67   \n",
       "4       16.04                55.00              25.74                 62.88   \n",
       "\n",
       "   sd_special_defense  mean_speed  sd_speed  mean_physical_stats  \\\n",
       "0               14.34       61.67     14.34               129.33   \n",
       "1               19.58       81.14     17.27               122.43   \n",
       "2               16.87       59.67     14.34               146.33   \n",
       "3               14.34       81.67     14.34               126.33   \n",
       "4               26.41       60.00     15.81               115.75   \n",
       "\n",
       "   sd_physical_stats  mean_special_stats  sd_special_stats  \\\n",
       "0              27.52              163.33             28.67   \n",
       "1              31.50              122.57             45.67   \n",
       "2              28.67              149.67             31.20   \n",
       "3              27.52              149.67             34.45   \n",
       "4              34.88              117.88             50.79   \n",
       "\n",
       "   mean_overall_stats  sd_overall_stats  \n",
       "0              416.00             84.86  \n",
       "1              387.43             99.09  \n",
       "2              416.33             88.55  \n",
       "3              416.00             92.18  \n",
       "4              347.38            109.05  "
      ]
     },
     "execution_count": 24,
     "metadata": {},
     "output_type": "execute_result"
    }
   ],
   "source": [
    "df_mean_stats_per_type = pd.read_sql(mean_stats_per_type_str, engine)\n",
    "df_mean_stats_per_type.head()"
   ]
  },
  {
   "cell_type": "code",
   "execution_count": null,
   "id": "e9d033d8-acaa-4816-a342-afce325aa308",
   "metadata": {},
   "outputs": [],
   "source": []
  }
 ],
 "metadata": {
  "kernelspec": {
   "display_name": "Python 3 (ipykernel)",
   "language": "python",
   "name": "python3"
  },
  "language_info": {
   "codemirror_mode": {
    "name": "ipython",
    "version": 3
   },
   "file_extension": ".py",
   "mimetype": "text/x-python",
   "name": "python",
   "nbconvert_exporter": "python",
   "pygments_lexer": "ipython3",
   "version": "3.12.2"
  }
 },
 "nbformat": 4,
 "nbformat_minor": 5
}
