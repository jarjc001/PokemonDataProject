{
 "cells": [
  {
   "cell_type": "markdown",
   "id": "6fd1d224-3a84-42d2-a91b-8f264411cd27",
   "metadata": {},
   "source": [
    "# Pokemon Data Analysis"
   ]
  },
  {
   "cell_type": "markdown",
   "id": "727e81a3-8307-456d-8318-dfa44d28ea05",
   "metadata": {},
   "source": [
    "Into"
   ]
  },
  {
   "cell_type": "code",
   "execution_count": null,
   "id": "88450765-f7ea-42a5-8098-f8c0794a3639",
   "metadata": {},
   "outputs": [],
   "source": []
  },
  {
   "cell_type": "code",
   "execution_count": null,
   "id": "fb941b5c-e878-4600-81d6-8f1b14d73b8e",
   "metadata": {},
   "outputs": [],
   "source": []
  },
  {
   "cell_type": "markdown",
   "id": "2b7349f6-abc4-4900-900c-981edae1a120",
   "metadata": {},
   "source": [
    "WHere data is from: -> api, plus citatons "
   ]
  },
  {
   "cell_type": "code",
   "execution_count": null,
   "id": "770ddb8b-c0d3-4134-af3a-d7ddf9cf47b8",
   "metadata": {},
   "outputs": [],
   "source": []
  },
  {
   "cell_type": "code",
   "execution_count": null,
   "id": "3ca45edc-2152-4de6-82ee-298163c9152e",
   "metadata": {},
   "outputs": [],
   "source": []
  },
  {
   "cell_type": "markdown",
   "id": "3d635fe0-932a-4bfc-9c01-0b76ff0b75d5",
   "metadata": {},
   "source": [
    "Pipeline to data"
   ]
  },
  {
   "cell_type": "code",
   "execution_count": null,
   "id": "947249f9-cfed-4b18-9554-f421762ff3ed",
   "metadata": {},
   "outputs": [],
   "source": []
  },
  {
   "cell_type": "code",
   "execution_count": null,
   "id": "6ba8f1a6-43a7-4fd6-9cd6-33f9170176bc",
   "metadata": {},
   "outputs": [],
   "source": []
  },
  {
   "cell_type": "markdown",
   "id": "25b28158-a434-49f2-8097-8709a0dcb32e",
   "metadata": {},
   "source": [
    "Data in pandas and export data into sql db and pasquel"
   ]
  },
  {
   "cell_type": "code",
   "execution_count": null,
   "id": "07efbbd0-efd0-4136-9a52-4de03d121ab6",
   "metadata": {},
   "outputs": [],
   "source": []
  },
  {
   "cell_type": "code",
   "execution_count": null,
   "id": "db013499-9a54-4657-af81-1efd9cd7d516",
   "metadata": {},
   "outputs": [],
   "source": []
  },
  {
   "cell_type": "markdown",
   "id": "023eba0a-dd35-4fd1-84a0-10ce5a069d63",
   "metadata": {},
   "source": [
    "get data from sql in each query or just use pandas"
   ]
  },
  {
   "cell_type": "code",
   "execution_count": null,
   "id": "bbcea743-aff0-43be-8f5a-589138bddb1b",
   "metadata": {},
   "outputs": [],
   "source": []
  },
  {
   "cell_type": "code",
   "execution_count": null,
   "id": "7ef1fa90-d7b7-48f0-81f3-6012396b66cf",
   "metadata": {},
   "outputs": [],
   "source": []
  },
  {
   "cell_type": "markdown",
   "id": "2fe0932e-726d-40b3-beb1-d213cac7d813",
   "metadata": {},
   "source": [
    "for each question:  \n",
    "type   \n",
    "height/weight    \n",
    "stats"
   ]
  },
  {
   "cell_type": "code",
   "execution_count": null,
   "id": "484c438d-e5ed-4488-a2ca-bc3b2e084b56",
   "metadata": {},
   "outputs": [],
   "source": []
  }
 ],
 "metadata": {
  "kernelspec": {
   "display_name": "Python 3 (ipykernel)",
   "language": "python",
   "name": "python3"
  },
  "language_info": {
   "codemirror_mode": {
    "name": "ipython",
    "version": 3
   },
   "file_extension": ".py",
   "mimetype": "text/x-python",
   "name": "python",
   "nbconvert_exporter": "python",
   "pygments_lexer": "ipython3",
   "version": "3.8.3"
  }
 },
 "nbformat": 4,
 "nbformat_minor": 5
}
