{
 "cells": [
  {
   "cell_type": "markdown",
   "id": "6fd1d224-3a84-42d2-a91b-8f264411cd27",
   "metadata": {},
   "source": [
    "# Pokemon Data Analysis"
   ]
  },
  {
   "cell_type": "markdown",
   "id": "727e81a3-8307-456d-8318-dfa44d28ea05",
   "metadata": {},
   "source": [
    "Using [PokéAPI](https://pokeapi.co/), I will create a data pipeline in python to extract and transform data about Pokémon in a MySQL database. From there, I’ll analysis different aspects of the data in python and SQL"
   ]
  },
  {
   "cell_type": "code",
   "execution_count": 1,
   "id": "88450765-f7ea-42a5-8098-f8c0794a3639",
   "metadata": {},
   "outputs": [],
   "source": [
    "import pokemon_pipline as pk\n",
    "import pandas as pd"
   ]
  },
  {
   "cell_type": "markdown",
   "id": "81b04a79-f781-48eb-af4c-2f981773e999",
   "metadata": {},
   "source": [
    "### 1. Collect and Format Data"
   ]
  },
  {
   "cell_type": "markdown",
   "id": "2f24d1fc-1132-4011-a26b-50bebba88828",
   "metadata": {},
   "source": [
    "Firstly, by using the requests package and a Pokémon object, I will create a list containing the information of every Pokémon, then convert the list into a pandas DataFrame as a more easily accessible form."
   ]
  },
  {
   "cell_type": "code",
   "execution_count": 2,
   "id": "78be66fe-3782-42ad-ac29-e85ab0584649",
   "metadata": {},
   "outputs": [
    {
     "data": {
      "text/html": [
       "<div>\n",
       "<style scoped>\n",
       "    .dataframe tbody tr th:only-of-type {\n",
       "        vertical-align: middle;\n",
       "    }\n",
       "\n",
       "    .dataframe tbody tr th {\n",
       "        vertical-align: top;\n",
       "    }\n",
       "\n",
       "    .dataframe thead th {\n",
       "        text-align: right;\n",
       "    }\n",
       "</style>\n",
       "<table border=\"1\" class=\"dataframe\">\n",
       "  <thead>\n",
       "    <tr style=\"text-align: right;\">\n",
       "      <th></th>\n",
       "      <th>pokemonId</th>\n",
       "      <th>name</th>\n",
       "      <th>type1</th>\n",
       "      <th>type2</th>\n",
       "      <th>height</th>\n",
       "      <th>weight</th>\n",
       "      <th>hp</th>\n",
       "      <th>attack</th>\n",
       "      <th>defense</th>\n",
       "      <th>special_attack</th>\n",
       "      <th>special_defense</th>\n",
       "      <th>speed</th>\n",
       "    </tr>\n",
       "  </thead>\n",
       "  <tbody>\n",
       "    <tr>\n",
       "      <th>0</th>\n",
       "      <td>1</td>\n",
       "      <td>bulbasaur</td>\n",
       "      <td>grass</td>\n",
       "      <td>poison</td>\n",
       "      <td>7</td>\n",
       "      <td>69</td>\n",
       "      <td>45</td>\n",
       "      <td>49</td>\n",
       "      <td>49</td>\n",
       "      <td>65</td>\n",
       "      <td>65</td>\n",
       "      <td>45</td>\n",
       "    </tr>\n",
       "    <tr>\n",
       "      <th>1</th>\n",
       "      <td>2</td>\n",
       "      <td>ivysaur</td>\n",
       "      <td>grass</td>\n",
       "      <td>poison</td>\n",
       "      <td>10</td>\n",
       "      <td>130</td>\n",
       "      <td>60</td>\n",
       "      <td>62</td>\n",
       "      <td>63</td>\n",
       "      <td>80</td>\n",
       "      <td>80</td>\n",
       "      <td>60</td>\n",
       "    </tr>\n",
       "    <tr>\n",
       "      <th>2</th>\n",
       "      <td>3</td>\n",
       "      <td>venusaur</td>\n",
       "      <td>grass</td>\n",
       "      <td>poison</td>\n",
       "      <td>20</td>\n",
       "      <td>1000</td>\n",
       "      <td>80</td>\n",
       "      <td>82</td>\n",
       "      <td>83</td>\n",
       "      <td>100</td>\n",
       "      <td>100</td>\n",
       "      <td>80</td>\n",
       "    </tr>\n",
       "    <tr>\n",
       "      <th>3</th>\n",
       "      <td>4</td>\n",
       "      <td>charmander</td>\n",
       "      <td>fire</td>\n",
       "      <td>None</td>\n",
       "      <td>6</td>\n",
       "      <td>85</td>\n",
       "      <td>39</td>\n",
       "      <td>52</td>\n",
       "      <td>43</td>\n",
       "      <td>60</td>\n",
       "      <td>50</td>\n",
       "      <td>65</td>\n",
       "    </tr>\n",
       "  </tbody>\n",
       "</table>\n",
       "</div>"
      ],
      "text/plain": [
       "   pokemonId        name  type1   type2  height  weight  hp  attack  defense  \\\n",
       "0          1   bulbasaur  grass  poison       7      69  45      49       49   \n",
       "1          2     ivysaur  grass  poison      10     130  60      62       63   \n",
       "2          3    venusaur  grass  poison      20    1000  80      82       83   \n",
       "3          4  charmander   fire    None       6      85  39      52       43   \n",
       "\n",
       "   special_attack  special_defense  speed  \n",
       "0              65               65     45  \n",
       "1              80               80     60  \n",
       "2             100              100     80  \n",
       "3              60               50     65  "
      ]
     },
     "execution_count": 2,
     "metadata": {},
     "output_type": "execute_result"
    }
   ],
   "source": [
    "pokemon_base_url: str = \"https://pokeapi.co/api/v2/pokemon/\"\n",
    "pokemon_list: list = pk.import_pokemon_data_to_list(4,url = pokemon_base_url)\n",
    "\n",
    "pokemon_df: pd.DataFrame = pk.list_pokemon_data_to_pd(pokemon_list)\n",
    "pokemon_df.head()"
   ]
  },
  {
   "cell_type": "markdown",
   "id": "6017df02-b65e-47fb-8a1a-a4afe7488530",
   "metadata": {},
   "source": [
    "I will do the same for Pokémon types, ending up with a DataFrame of Pokémon types and a corresponding ID\n"
   ]
  },
  {
   "cell_type": "code",
   "execution_count": 7,
   "id": "3ca45edc-2152-4de6-82ee-298163c9152e",
   "metadata": {},
   "outputs": [
    {
     "data": {
      "text/html": [
       "<div>\n",
       "<style scoped>\n",
       "    .dataframe tbody tr th:only-of-type {\n",
       "        vertical-align: middle;\n",
       "    }\n",
       "\n",
       "    .dataframe tbody tr th {\n",
       "        vertical-align: top;\n",
       "    }\n",
       "\n",
       "    .dataframe thead th {\n",
       "        text-align: right;\n",
       "    }\n",
       "</style>\n",
       "<table border=\"1\" class=\"dataframe\">\n",
       "  <thead>\n",
       "    <tr style=\"text-align: right;\">\n",
       "      <th></th>\n",
       "      <th>pokemonType</th>\n",
       "      <th>typeID</th>\n",
       "    </tr>\n",
       "  </thead>\n",
       "  <tbody>\n",
       "    <tr>\n",
       "      <th>0</th>\n",
       "      <td>normal</td>\n",
       "      <td>0</td>\n",
       "    </tr>\n",
       "    <tr>\n",
       "      <th>1</th>\n",
       "      <td>fighting</td>\n",
       "      <td>1</td>\n",
       "    </tr>\n",
       "    <tr>\n",
       "      <th>2</th>\n",
       "      <td>flying</td>\n",
       "      <td>2</td>\n",
       "    </tr>\n",
       "    <tr>\n",
       "      <th>3</th>\n",
       "      <td>poison</td>\n",
       "      <td>3</td>\n",
       "    </tr>\n",
       "    <tr>\n",
       "      <th>4</th>\n",
       "      <td>ground</td>\n",
       "      <td>4</td>\n",
       "    </tr>\n",
       "  </tbody>\n",
       "</table>\n",
       "</div>"
      ],
      "text/plain": [
       "  pokemonType  typeID\n",
       "0      normal       0\n",
       "1    fighting       1\n",
       "2      flying       2\n",
       "3      poison       3\n",
       "4      ground       4"
      ]
     },
     "execution_count": 7,
     "metadata": {},
     "output_type": "execute_result"
    }
   ],
   "source": [
    "type_base_url: str = \"https://pokeapi.co/api/v2/type/\"\n",
    "pokemon_types: list = pk.import_type_data_to_list(url = type_base_url)\n",
    "\n",
    "types_df: pd.DataFrame = pk.list_types_data_to_pd(pokemon_types)\n",
    "types_df.head()"
   ]
  },
  {
   "cell_type": "markdown",
   "id": "4327f19d-60bf-49de-8854-3547c84b6e4c",
   "metadata": {},
   "source": [
    "### 2. Export to Data Storage and Data Base"
   ]
  },
  {
   "cell_type": "markdown",
   "id": "e3b953f4-14e0-45f4-93cc-f7ee6e682df0",
   "metadata": {},
   "source": [
    "Can export the pokemon data now in the form of a csv and parquet file"
   ]
  },
  {
   "cell_type": "code",
   "execution_count": null,
   "id": "947249f9-cfed-4b18-9554-f421762ff3ed",
   "metadata": {},
   "outputs": [],
   "source": [
    "pk.data_pd_to_csv(pokemon_df)\n",
    "pk.data_pd_to_parquet(pokemon_df)"
   ]
  },
  {
   "cell_type": "markdown",
   "id": "bccc8892-8919-454e-afa5-40b227e9e095",
   "metadata": {},
   "source": [
    "\n",
    "![Pokémon Database erd](PokemonDB_erd.png)"
   ]
  },
  {
   "cell_type": "code",
   "execution_count": null,
   "id": "c6c8133e-4819-40a6-894d-1adf602b61da",
   "metadata": {},
   "outputs": [],
   "source": []
  },
  {
   "cell_type": "code",
   "execution_count": null,
   "id": "cb15bb2a-72dc-404e-ba99-437ef0c6a12e",
   "metadata": {},
   "outputs": [],
   "source": []
  },
  {
   "cell_type": "code",
   "execution_count": null,
   "id": "7531445f-fd3d-4fcd-b2b7-6ab9459df9ef",
   "metadata": {},
   "outputs": [],
   "source": []
  },
  {
   "cell_type": "code",
   "execution_count": null,
   "id": "061b33ef-656e-463c-8d04-4edf76572d18",
   "metadata": {},
   "outputs": [],
   "source": []
  },
  {
   "cell_type": "code",
   "execution_count": null,
   "id": "c1ea75f8-f603-4998-9694-b6ac989daf67",
   "metadata": {},
   "outputs": [],
   "source": []
  },
  {
   "cell_type": "markdown",
   "id": "25b28158-a434-49f2-8097-8709a0dcb32e",
   "metadata": {},
   "source": [
    "Data in pandas and export data into sql db and pasquel"
   ]
  },
  {
   "cell_type": "code",
   "execution_count": null,
   "id": "07efbbd0-efd0-4136-9a52-4de03d121ab6",
   "metadata": {},
   "outputs": [],
   "source": []
  },
  {
   "cell_type": "code",
   "execution_count": null,
   "id": "db013499-9a54-4657-af81-1efd9cd7d516",
   "metadata": {},
   "outputs": [],
   "source": []
  },
  {
   "cell_type": "markdown",
   "id": "023eba0a-dd35-4fd1-84a0-10ce5a069d63",
   "metadata": {},
   "source": [
    "get data from sql in each query or just use pandas"
   ]
  },
  {
   "cell_type": "code",
   "execution_count": null,
   "id": "bbcea743-aff0-43be-8f5a-589138bddb1b",
   "metadata": {},
   "outputs": [],
   "source": []
  },
  {
   "cell_type": "code",
   "execution_count": null,
   "id": "7ef1fa90-d7b7-48f0-81f3-6012396b66cf",
   "metadata": {},
   "outputs": [],
   "source": []
  },
  {
   "cell_type": "markdown",
   "id": "2fe0932e-726d-40b3-beb1-d213cac7d813",
   "metadata": {},
   "source": [
    "for each question:  \n",
    "type   \n",
    "height/weight    \n",
    "stats"
   ]
  },
  {
   "cell_type": "code",
   "execution_count": null,
   "id": "484c438d-e5ed-4488-a2ca-bc3b2e084b56",
   "metadata": {},
   "outputs": [],
   "source": []
  }
 ],
 "metadata": {
  "kernelspec": {
   "display_name": "Python 3 (ipykernel)",
   "language": "python",
   "name": "python3"
  },
  "language_info": {
   "codemirror_mode": {
    "name": "ipython",
    "version": 3
   },
   "file_extension": ".py",
   "mimetype": "text/x-python",
   "name": "python",
   "nbconvert_exporter": "python",
   "pygments_lexer": "ipython3",
   "version": "3.12.2"
  }
 },
 "nbformat": 4,
 "nbformat_minor": 5
}
